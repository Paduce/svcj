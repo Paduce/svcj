{
 "cells": [
  {
   "cell_type": "markdown",
   "metadata": {},
   "source": [
    "# GEMINI"
   ]
  },
  {
   "cell_type": "code",
   "execution_count": 80,
   "metadata": {},
   "outputs": [
    {
     "name": "stdout",
     "output_type": "stream",
     "text": [
      "Using device: cuda\n",
      "--- Generating Training/Validation Data (50000 samples) ---\n"
     ]
    },
    {
     "name": "stderr",
     "output_type": "stream",
     "text": [
      "                                                                           \r"
     ]
    },
    {
     "name": "stdout",
     "output_type": "stream",
     "text": [
      "\n",
      "--- Generating Test Data (500 samples) ---\n"
     ]
    },
    {
     "name": "stderr",
     "output_type": "stream",
     "text": [
      "                                                              \r"
     ]
    },
    {
     "name": "stdout",
     "output_type": "stream",
     "text": [
      "\n",
      "--- Normalizing Data (using training split statistics) ---\n",
      "Return series mean: 0.000003, std: 0.019426\n",
      "Parameter means: ['0.0000', '0.0001', '0.0551', '0.0001', '0.8903', '0.2757', '0.0274']\n",
      "Parameter stds: ['0.0002', '0.0289', '0.0259', '0.0001', '0.0578', '0.1296', '0.0130']\n",
      "\n",
      "Train loader: 45000 samples. Val loader: 5000. Test loader: 500.\n",
      "Starting training with model: LSTMTransformerSVJD\n"
     ]
    },
    {
     "name": "stderr",
     "output_type": "stream",
     "text": [
      "                                                                        \r"
     ]
    },
    {
     "name": "stdout",
     "output_type": "stream",
     "text": [
      "Epoch 1/100 - Train Loss: 0.787473, Val Loss: 0.638409, Duration: 216.13s\n",
      "Test R2 Scores: R2(mju): 0.0480, R2(mjuJ): 0.7291, R2(sigmaJ): 0.3510, R2(varLT): 0.7684, R2(beta): 0.1921, R2(gamma): 0.0965, R2(lambda): 0.3424\n"
     ]
    },
    {
     "name": "stderr",
     "output_type": "stream",
     "text": [
      "                                                                        \r"
     ]
    },
    {
     "name": "stdout",
     "output_type": "stream",
     "text": [
      "Epoch 2/100 - Train Loss: 0.566306, Val Loss: 0.485251, Duration: 217.43s\n",
      "Test R2 Scores: R2(mju): 0.2620, R2(mjuJ): 0.7835, R2(sigmaJ): 0.6807, R2(varLT): 0.8922, R2(beta): 0.3372, R2(gamma): 0.2540, R2(lambda): 0.3950\n"
     ]
    },
    {
     "name": "stderr",
     "output_type": "stream",
     "text": [
      "                                                                        \r"
     ]
    },
    {
     "name": "stdout",
     "output_type": "stream",
     "text": [
      "Epoch 3/100 - Train Loss: 0.443098, Val Loss: 0.404642, Duration: 217.77s\n",
      "Test R2 Scores: R2(mju): 0.3675, R2(mjuJ): 0.8534, R2(sigmaJ): 0.7355, R2(varLT): 0.9183, R2(beta): 0.3530, R2(gamma): 0.4274, R2(lambda): 0.5129\n"
     ]
    },
    {
     "name": "stderr",
     "output_type": "stream",
     "text": [
      "                                                                        \r"
     ]
    },
    {
     "name": "stdout",
     "output_type": "stream",
     "text": [
      "Epoch 4/100 - Train Loss: 0.381013, Val Loss: 0.357107, Duration: 217.93s\n",
      "Test R2 Scores: R2(mju): 0.4015, R2(mjuJ): 0.8516, R2(sigmaJ): 0.8094, R2(varLT): 0.9274, R2(beta): 0.4036, R2(gamma): 0.5725, R2(lambda): 0.5733\n"
     ]
    },
    {
     "name": "stderr",
     "output_type": "stream",
     "text": [
      "                                                                        \r"
     ]
    },
    {
     "name": "stdout",
     "output_type": "stream",
     "text": [
      "Epoch 5/100 - Train Loss: 0.339749, Val Loss: 0.318470, Duration: 217.88s\n",
      "Test R2 Scores: R2(mju): 0.4069, R2(mjuJ): 0.8681, R2(sigmaJ): 0.8064, R2(varLT): 0.9317, R2(beta): 0.4630, R2(gamma): 0.6914, R2(lambda): 0.6501\n"
     ]
    },
    {
     "name": "stderr",
     "output_type": "stream",
     "text": [
      "                                                                        \r"
     ]
    },
    {
     "name": "stdout",
     "output_type": "stream",
     "text": [
      "Epoch 6/100 - Train Loss: 0.305590, Val Loss: 0.291254, Duration: 217.94s\n",
      "Test R2 Scores: R2(mju): 0.4225, R2(mjuJ): 0.8742, R2(sigmaJ): 0.8158, R2(varLT): 0.9344, R2(beta): 0.5295, R2(gamma): 0.7393, R2(lambda): 0.6510\n"
     ]
    },
    {
     "name": "stderr",
     "output_type": "stream",
     "text": [
      "                                                                        \r"
     ]
    },
    {
     "name": "stdout",
     "output_type": "stream",
     "text": [
      "Epoch 7/100 - Train Loss: 0.284505, Val Loss: 0.277727, Duration: 217.95s\n",
      "Test R2 Scores: R2(mju): 0.4549, R2(mjuJ): 0.8750, R2(sigmaJ): 0.8211, R2(varLT): 0.9387, R2(beta): 0.5452, R2(gamma): 0.7515, R2(lambda): 0.6900\n"
     ]
    },
    {
     "name": "stderr",
     "output_type": "stream",
     "text": [
      "                                                                        \r"
     ]
    },
    {
     "name": "stdout",
     "output_type": "stream",
     "text": [
      "Epoch 8/100 - Train Loss: 0.271890, Val Loss: 0.268686, Duration: 217.92s\n",
      "Test R2 Scores: R2(mju): 0.4658, R2(mjuJ): 0.8736, R2(sigmaJ): 0.8491, R2(varLT): 0.9369, R2(beta): 0.5456, R2(gamma): 0.7595, R2(lambda): 0.6716\n"
     ]
    },
    {
     "name": "stderr",
     "output_type": "stream",
     "text": [
      "                                                                        \r"
     ]
    },
    {
     "name": "stdout",
     "output_type": "stream",
     "text": [
      "Epoch 9/100 - Train Loss: 0.262578, Val Loss: 0.255549, Duration: 217.96s\n",
      "Test R2 Scores: R2(mju): 0.4432, R2(mjuJ): 0.8792, R2(sigmaJ): 0.8475, R2(varLT): 0.9382, R2(beta): 0.6059, R2(gamma): 0.7814, R2(lambda): 0.7050\n"
     ]
    },
    {
     "name": "stderr",
     "output_type": "stream",
     "text": [
      "                                                                         \r"
     ]
    },
    {
     "name": "stdout",
     "output_type": "stream",
     "text": [
      "Epoch 10/100 - Train Loss: 0.255294, Val Loss: 0.268612, Duration: 217.95s\n",
      "Test R2 Scores: R2(mju): 0.4627, R2(mjuJ): 0.8784, R2(sigmaJ): 0.8296, R2(varLT): 0.9407, R2(beta): 0.5745, R2(gamma): 0.7373, R2(lambda): 0.6946\n"
     ]
    },
    {
     "name": "stderr",
     "output_type": "stream",
     "text": [
      "                                                                         \r"
     ]
    },
    {
     "name": "stdout",
     "output_type": "stream",
     "text": [
      "Epoch 11/100 - Train Loss: 0.249711, Val Loss: 0.248871, Duration: 217.61s\n",
      "Test R2 Scores: R2(mju): 0.4737, R2(mjuJ): 0.8789, R2(sigmaJ): 0.8491, R2(varLT): 0.9430, R2(beta): 0.6270, R2(gamma): 0.7912, R2(lambda): 0.7108\n"
     ]
    },
    {
     "name": "stderr",
     "output_type": "stream",
     "text": [
      "                                                                         \r"
     ]
    },
    {
     "name": "stdout",
     "output_type": "stream",
     "text": [
      "Epoch 12/100 - Train Loss: 0.244803, Val Loss: 0.247634, Duration: 217.49s\n",
      "Test R2 Scores: R2(mju): 0.4751, R2(mjuJ): 0.8766, R2(sigmaJ): 0.8403, R2(varLT): 0.9418, R2(beta): 0.6250, R2(gamma): 0.7666, R2(lambda): 0.7231\n"
     ]
    },
    {
     "name": "stderr",
     "output_type": "stream",
     "text": [
      "                                                                         \r"
     ]
    },
    {
     "name": "stdout",
     "output_type": "stream",
     "text": [
      "Epoch 13/100 - Train Loss: 0.240155, Val Loss: 0.235753, Duration: 217.53s\n",
      "Test R2 Scores: R2(mju): 0.4748, R2(mjuJ): 0.8805, R2(sigmaJ): 0.8669, R2(varLT): 0.9443, R2(beta): 0.6461, R2(gamma): 0.8171, R2(lambda): 0.7238\n"
     ]
    },
    {
     "name": "stderr",
     "output_type": "stream",
     "text": [
      "                                                                         \r"
     ]
    },
    {
     "name": "stdout",
     "output_type": "stream",
     "text": [
      "Epoch 14/100 - Train Loss: 0.236358, Val Loss: 0.238833, Duration: 217.63s\n",
      "Test R2 Scores: R2(mju): 0.4802, R2(mjuJ): 0.8829, R2(sigmaJ): 0.8638, R2(varLT): 0.9419, R2(beta): 0.6415, R2(gamma): 0.7878, R2(lambda): 0.7277\n"
     ]
    },
    {
     "name": "stderr",
     "output_type": "stream",
     "text": [
      "                                                                         \r"
     ]
    },
    {
     "name": "stdout",
     "output_type": "stream",
     "text": [
      "Epoch 15/100 - Train Loss: 0.233514, Val Loss: 0.235309, Duration: 217.52s\n",
      "Test R2 Scores: R2(mju): 0.4809, R2(mjuJ): 0.8826, R2(sigmaJ): 0.8773, R2(varLT): 0.9420, R2(beta): 0.6535, R2(gamma): 0.7756, R2(lambda): 0.7322\n"
     ]
    },
    {
     "name": "stderr",
     "output_type": "stream",
     "text": [
      "                                                                         \r"
     ]
    },
    {
     "name": "stdout",
     "output_type": "stream",
     "text": [
      "Epoch 16/100 - Train Loss: 0.230277, Val Loss: 0.236615, Duration: 217.50s\n",
      "Test R2 Scores: R2(mju): 0.4412, R2(mjuJ): 0.8846, R2(sigmaJ): 0.8750, R2(varLT): 0.9447, R2(beta): 0.6611, R2(gamma): 0.8273, R2(lambda): 0.7283\n"
     ]
    },
    {
     "name": "stderr",
     "output_type": "stream",
     "text": [
      "                                                                         \r"
     ]
    },
    {
     "name": "stdout",
     "output_type": "stream",
     "text": [
      "Epoch 17/100 - Train Loss: 0.227794, Val Loss: 0.229389, Duration: 217.54s\n",
      "Test R2 Scores: R2(mju): 0.4889, R2(mjuJ): 0.8838, R2(sigmaJ): 0.8811, R2(varLT): 0.9448, R2(beta): 0.6380, R2(gamma): 0.8100, R2(lambda): 0.7326\n"
     ]
    },
    {
     "name": "stderr",
     "output_type": "stream",
     "text": [
      "                                                                         \r"
     ]
    },
    {
     "name": "stdout",
     "output_type": "stream",
     "text": [
      "Epoch 18/100 - Train Loss: 0.225815, Val Loss: 0.240326, Duration: 217.65s\n",
      "Test R2 Scores: R2(mju): 0.4589, R2(mjuJ): 0.8848, R2(sigmaJ): 0.8843, R2(varLT): 0.9463, R2(beta): 0.6301, R2(gamma): 0.7619, R2(lambda): 0.7364\n"
     ]
    },
    {
     "name": "stderr",
     "output_type": "stream",
     "text": [
      "                                                                         \r"
     ]
    },
    {
     "name": "stdout",
     "output_type": "stream",
     "text": [
      "Epoch 19/100 - Train Loss: 0.224026, Val Loss: 0.227795, Duration: 217.53s\n",
      "Test R2 Scores: R2(mju): 0.4852, R2(mjuJ): 0.8834, R2(sigmaJ): 0.8619, R2(varLT): 0.9469, R2(beta): 0.6725, R2(gamma): 0.8222, R2(lambda): 0.7390\n"
     ]
    },
    {
     "name": "stderr",
     "output_type": "stream",
     "text": [
      "                                                                         \r"
     ]
    },
    {
     "name": "stdout",
     "output_type": "stream",
     "text": [
      "Epoch 20/100 - Train Loss: 0.222381, Val Loss: 0.228297, Duration: 217.56s\n",
      "Test R2 Scores: R2(mju): 0.4753, R2(mjuJ): 0.8877, R2(sigmaJ): 0.8635, R2(varLT): 0.9462, R2(beta): 0.6827, R2(gamma): 0.8349, R2(lambda): 0.7073\n"
     ]
    },
    {
     "name": "stderr",
     "output_type": "stream",
     "text": [
      "                                                                         \r"
     ]
    },
    {
     "name": "stdout",
     "output_type": "stream",
     "text": [
      "Epoch 21/100 - Train Loss: 0.220582, Val Loss: 0.232478, Duration: 217.48s\n",
      "Test R2 Scores: R2(mju): 0.4461, R2(mjuJ): 0.8753, R2(sigmaJ): 0.8680, R2(varLT): 0.9420, R2(beta): 0.6825, R2(gamma): 0.8394, R2(lambda): 0.7395\n"
     ]
    },
    {
     "name": "stderr",
     "output_type": "stream",
     "text": [
      "                                                                         \r"
     ]
    },
    {
     "name": "stdout",
     "output_type": "stream",
     "text": [
      "Epoch 22/100 - Train Loss: 0.218816, Val Loss: 0.221455, Duration: 217.57s\n",
      "Test R2 Scores: R2(mju): 0.4901, R2(mjuJ): 0.8871, R2(sigmaJ): 0.8859, R2(varLT): 0.9473, R2(beta): 0.6775, R2(gamma): 0.8318, R2(lambda): 0.7362\n"
     ]
    },
    {
     "name": "stderr",
     "output_type": "stream",
     "text": [
      "                                                                         \r"
     ]
    },
    {
     "name": "stdout",
     "output_type": "stream",
     "text": [
      "Epoch 23/100 - Train Loss: 0.218261, Val Loss: 0.219212, Duration: 217.46s\n",
      "Test R2 Scores: R2(mju): 0.4933, R2(mjuJ): 0.8855, R2(sigmaJ): 0.8835, R2(varLT): 0.9468, R2(beta): 0.6758, R2(gamma): 0.8302, R2(lambda): 0.7395\n"
     ]
    },
    {
     "name": "stderr",
     "output_type": "stream",
     "text": [
      "                                                                         \r"
     ]
    },
    {
     "name": "stdout",
     "output_type": "stream",
     "text": [
      "Epoch 24/100 - Train Loss: 0.216501, Val Loss: 0.221114, Duration: 217.46s\n",
      "Test R2 Scores: R2(mju): 0.4961, R2(mjuJ): 0.8872, R2(sigmaJ): 0.8944, R2(varLT): 0.9439, R2(beta): 0.6739, R2(gamma): 0.8339, R2(lambda): 0.7209\n"
     ]
    },
    {
     "name": "stderr",
     "output_type": "stream",
     "text": [
      "                                                                         \r"
     ]
    },
    {
     "name": "stdout",
     "output_type": "stream",
     "text": [
      "Epoch 25/100 - Train Loss: 0.215070, Val Loss: 0.222997, Duration: 217.44s\n",
      "Test R2 Scores: R2(mju): 0.4997, R2(mjuJ): 0.8865, R2(sigmaJ): 0.8896, R2(varLT): 0.9486, R2(beta): 0.6612, R2(gamma): 0.8228, R2(lambda): 0.7513\n"
     ]
    },
    {
     "name": "stderr",
     "output_type": "stream",
     "text": [
      "                                                                         \r"
     ]
    },
    {
     "name": "stdout",
     "output_type": "stream",
     "text": [
      "Epoch 26/100 - Train Loss: 0.214197, Val Loss: 0.225920, Duration: 217.21s\n",
      "Test R2 Scores: R2(mju): 0.4797, R2(mjuJ): 0.8846, R2(sigmaJ): 0.8616, R2(varLT): 0.9497, R2(beta): 0.6754, R2(gamma): 0.8375, R2(lambda): 0.7267\n"
     ]
    },
    {
     "name": "stderr",
     "output_type": "stream",
     "text": [
      "                                                                         \r"
     ]
    },
    {
     "name": "stdout",
     "output_type": "stream",
     "text": [
      "Epoch 27/100 - Train Loss: 0.213574, Val Loss: 0.233003, Duration: 217.24s\n",
      "Test R2 Scores: R2(mju): 0.4740, R2(mjuJ): 0.8872, R2(sigmaJ): 0.8847, R2(varLT): 0.9500, R2(beta): 0.6395, R2(gamma): 0.8176, R2(lambda): 0.7258\n"
     ]
    },
    {
     "name": "stderr",
     "output_type": "stream",
     "text": [
      "                                                                         \r"
     ]
    },
    {
     "name": "stdout",
     "output_type": "stream",
     "text": [
      "Epoch 28/100 - Train Loss: 0.212752, Val Loss: 0.219232, Duration: 217.14s\n",
      "Test R2 Scores: R2(mju): 0.4892, R2(mjuJ): 0.8894, R2(sigmaJ): 0.8841, R2(varLT): 0.9481, R2(beta): 0.6888, R2(gamma): 0.8456, R2(lambda): 0.7367\n"
     ]
    },
    {
     "name": "stderr",
     "output_type": "stream",
     "text": [
      "                                                                         \r"
     ]
    },
    {
     "name": "stdout",
     "output_type": "stream",
     "text": [
      "Epoch 29/100 - Train Loss: 0.211855, Val Loss: 0.220369, Duration: 217.12s\n",
      "Test R2 Scores: R2(mju): 0.4884, R2(mjuJ): 0.8906, R2(sigmaJ): 0.8889, R2(varLT): 0.9487, R2(beta): 0.6806, R2(gamma): 0.8279, R2(lambda): 0.7066\n"
     ]
    },
    {
     "name": "stderr",
     "output_type": "stream",
     "text": [
      "                                                                         \r"
     ]
    },
    {
     "name": "stdout",
     "output_type": "stream",
     "text": [
      "Epoch 30/100 - Train Loss: 0.210760, Val Loss: 0.218897, Duration: 217.23s\n",
      "Test R2 Scores: R2(mju): 0.5002, R2(mjuJ): 0.8895, R2(sigmaJ): 0.8713, R2(varLT): 0.9496, R2(beta): 0.6953, R2(gamma): 0.8375, R2(lambda): 0.7296\n"
     ]
    },
    {
     "name": "stderr",
     "output_type": "stream",
     "text": [
      "                                                                         \r"
     ]
    },
    {
     "name": "stdout",
     "output_type": "stream",
     "text": [
      "Epoch 31/100 - Train Loss: 0.209798, Val Loss: 0.226395, Duration: 217.22s\n",
      "Test R2 Scores: R2(mju): 0.4909, R2(mjuJ): 0.8815, R2(sigmaJ): 0.8580, R2(varLT): 0.9512, R2(beta): 0.6753, R2(gamma): 0.8382, R2(lambda): 0.7215\n"
     ]
    },
    {
     "name": "stderr",
     "output_type": "stream",
     "text": [
      "                                                                         \r"
     ]
    },
    {
     "name": "stdout",
     "output_type": "stream",
     "text": [
      "Epoch 32/100 - Train Loss: 0.209399, Val Loss: 0.217259, Duration: 217.14s\n",
      "Test R2 Scores: R2(mju): 0.4747, R2(mjuJ): 0.8915, R2(sigmaJ): 0.8981, R2(varLT): 0.9488, R2(beta): 0.6823, R2(gamma): 0.8154, R2(lambda): 0.7311\n"
     ]
    },
    {
     "name": "stderr",
     "output_type": "stream",
     "text": [
      "                                                                         \r"
     ]
    },
    {
     "name": "stdout",
     "output_type": "stream",
     "text": [
      "Epoch 33/100 - Train Loss: 0.208808, Val Loss: 0.223160, Duration: 217.18s\n",
      "Test R2 Scores: R2(mju): 0.4901, R2(mjuJ): 0.8889, R2(sigmaJ): 0.8942, R2(varLT): 0.9511, R2(beta): 0.6399, R2(gamma): 0.8193, R2(lambda): 0.7407\n"
     ]
    },
    {
     "name": "stderr",
     "output_type": "stream",
     "text": [
      "                                                                         \r"
     ]
    },
    {
     "name": "stdout",
     "output_type": "stream",
     "text": [
      "Epoch 34/100 - Train Loss: 0.207860, Val Loss: 0.220539, Duration: 217.26s\n",
      "Test R2 Scores: R2(mju): 0.4958, R2(mjuJ): 0.8903, R2(sigmaJ): 0.9010, R2(varLT): 0.9502, R2(beta): 0.6714, R2(gamma): 0.8351, R2(lambda): 0.7259\n"
     ]
    },
    {
     "name": "stderr",
     "output_type": "stream",
     "text": [
      "                                                                         \r"
     ]
    },
    {
     "name": "stdout",
     "output_type": "stream",
     "text": [
      "Epoch 35/100 - Train Loss: 0.207531, Val Loss: 0.215305, Duration: 217.20s\n",
      "Test R2 Scores: R2(mju): 0.4711, R2(mjuJ): 0.8920, R2(sigmaJ): 0.8991, R2(varLT): 0.9489, R2(beta): 0.6929, R2(gamma): 0.8510, R2(lambda): 0.7467\n"
     ]
    },
    {
     "name": "stderr",
     "output_type": "stream",
     "text": [
      "                                                                         \r"
     ]
    },
    {
     "name": "stdout",
     "output_type": "stream",
     "text": [
      "Epoch 36/100 - Train Loss: 0.206623, Val Loss: 0.220081, Duration: 217.18s\n",
      "Test R2 Scores: R2(mju): 0.4977, R2(mjuJ): 0.8895, R2(sigmaJ): 0.9001, R2(varLT): 0.9498, R2(beta): 0.6686, R2(gamma): 0.8130, R2(lambda): 0.7419\n"
     ]
    },
    {
     "name": "stderr",
     "output_type": "stream",
     "text": [
      "                                                                         \r"
     ]
    },
    {
     "name": "stdout",
     "output_type": "stream",
     "text": [
      "Epoch 37/100 - Train Loss: 0.205923, Val Loss: 0.213076, Duration: 217.18s\n",
      "Test R2 Scores: R2(mju): 0.4882, R2(mjuJ): 0.8916, R2(sigmaJ): 0.8976, R2(varLT): 0.9518, R2(beta): 0.7002, R2(gamma): 0.8507, R2(lambda): 0.7333\n"
     ]
    },
    {
     "name": "stderr",
     "output_type": "stream",
     "text": [
      "                                                                         \r"
     ]
    },
    {
     "name": "stdout",
     "output_type": "stream",
     "text": [
      "Epoch 38/100 - Train Loss: 0.205733, Val Loss: 0.216642, Duration: 217.17s\n",
      "Test R2 Scores: R2(mju): 0.4898, R2(mjuJ): 0.8906, R2(sigmaJ): 0.8812, R2(varLT): 0.9514, R2(beta): 0.6913, R2(gamma): 0.8305, R2(lambda): 0.7399\n"
     ]
    },
    {
     "name": "stderr",
     "output_type": "stream",
     "text": [
      "                                                                         \r"
     ]
    },
    {
     "name": "stdout",
     "output_type": "stream",
     "text": [
      "Epoch 39/100 - Train Loss: 0.205079, Val Loss: 0.216442, Duration: 217.23s\n",
      "Test R2 Scores: R2(mju): 0.4927, R2(mjuJ): 0.8924, R2(sigmaJ): 0.8964, R2(varLT): 0.9517, R2(beta): 0.6824, R2(gamma): 0.8090, R2(lambda): 0.7473\n"
     ]
    },
    {
     "name": "stderr",
     "output_type": "stream",
     "text": [
      "                                                                         \r"
     ]
    },
    {
     "name": "stdout",
     "output_type": "stream",
     "text": [
      "Epoch 40/100 - Train Loss: 0.204616, Val Loss: 0.220132, Duration: 217.27s\n",
      "Test R2 Scores: R2(mju): 0.4981, R2(mjuJ): 0.8925, R2(sigmaJ): 0.8933, R2(varLT): 0.9472, R2(beta): 0.6478, R2(gamma): 0.8409, R2(lambda): 0.7462\n"
     ]
    },
    {
     "name": "stderr",
     "output_type": "stream",
     "text": [
      "                                                                         \r"
     ]
    },
    {
     "name": "stdout",
     "output_type": "stream",
     "text": [
      "Epoch 41/100 - Train Loss: 0.203792, Val Loss: 0.212993, Duration: 217.21s\n",
      "Test R2 Scores: R2(mju): 0.4922, R2(mjuJ): 0.8874, R2(sigmaJ): 0.9024, R2(varLT): 0.9513, R2(beta): 0.6977, R2(gamma): 0.8458, R2(lambda): 0.7538\n"
     ]
    },
    {
     "name": "stderr",
     "output_type": "stream",
     "text": [
      "                                                                         \r"
     ]
    },
    {
     "name": "stdout",
     "output_type": "stream",
     "text": [
      "Epoch 42/100 - Train Loss: 0.203827, Val Loss: 0.214483, Duration: 217.23s\n",
      "Test R2 Scores: R2(mju): 0.4891, R2(mjuJ): 0.8918, R2(sigmaJ): 0.8956, R2(varLT): 0.9506, R2(beta): 0.6871, R2(gamma): 0.8399, R2(lambda): 0.7368\n"
     ]
    },
    {
     "name": "stderr",
     "output_type": "stream",
     "text": [
      "                                                                         \r"
     ]
    },
    {
     "name": "stdout",
     "output_type": "stream",
     "text": [
      "Epoch 43/100 - Train Loss: 0.203106, Val Loss: 0.218951, Duration: 217.25s\n",
      "Test R2 Scores: R2(mju): 0.4959, R2(mjuJ): 0.8899, R2(sigmaJ): 0.9003, R2(varLT): 0.9501, R2(beta): 0.6562, R2(gamma): 0.8275, R2(lambda): 0.7331\n"
     ]
    },
    {
     "name": "stderr",
     "output_type": "stream",
     "text": [
      "                                                                         \r"
     ]
    },
    {
     "name": "stdout",
     "output_type": "stream",
     "text": [
      "Epoch 44/100 - Train Loss: 0.202146, Val Loss: 0.218036, Duration: 217.22s\n",
      "Test R2 Scores: R2(mju): 0.5034, R2(mjuJ): 0.8895, R2(sigmaJ): 0.8963, R2(varLT): 0.9501, R2(beta): 0.6706, R2(gamma): 0.8398, R2(lambda): 0.7281\n"
     ]
    },
    {
     "name": "stderr",
     "output_type": "stream",
     "text": [
      "                                                                         \r"
     ]
    },
    {
     "name": "stdout",
     "output_type": "stream",
     "text": [
      "Epoch 45/100 - Train Loss: 0.202227, Val Loss: 0.214451, Duration: 217.30s\n",
      "Test R2 Scores: R2(mju): 0.4843, R2(mjuJ): 0.8921, R2(sigmaJ): 0.8963, R2(varLT): 0.9516, R2(beta): 0.7050, R2(gamma): 0.8383, R2(lambda): 0.7408\n"
     ]
    },
    {
     "name": "stderr",
     "output_type": "stream",
     "text": [
      "                                                                         \r"
     ]
    },
    {
     "name": "stdout",
     "output_type": "stream",
     "text": [
      "Epoch 46/100 - Train Loss: 0.201992, Val Loss: 0.217722, Duration: 217.38s\n",
      "Test R2 Scores: R2(mju): 0.4999, R2(mjuJ): 0.8944, R2(sigmaJ): 0.9031, R2(varLT): 0.9512, R2(beta): 0.6566, R2(gamma): 0.8397, R2(lambda): 0.7330\n"
     ]
    },
    {
     "name": "stderr",
     "output_type": "stream",
     "text": [
      "                                                                         \r"
     ]
    },
    {
     "name": "stdout",
     "output_type": "stream",
     "text": [
      "Epoch 47/100 - Train Loss: 0.201379, Val Loss: 0.213818, Duration: 217.39s\n",
      "Test R2 Scores: R2(mju): 0.4849, R2(mjuJ): 0.8900, R2(sigmaJ): 0.8963, R2(varLT): 0.9498, R2(beta): 0.7042, R2(gamma): 0.8463, R2(lambda): 0.7502\n"
     ]
    },
    {
     "name": "stderr",
     "output_type": "stream",
     "text": [
      "                                                                         \r"
     ]
    },
    {
     "name": "stdout",
     "output_type": "stream",
     "text": [
      "Epoch 48/100 - Train Loss: 0.200860, Val Loss: 0.213401, Duration: 217.42s\n",
      "Test R2 Scores: R2(mju): 0.4897, R2(mjuJ): 0.8957, R2(sigmaJ): 0.9016, R2(varLT): 0.9507, R2(beta): 0.6990, R2(gamma): 0.8393, R2(lambda): 0.7528\n"
     ]
    },
    {
     "name": "stderr",
     "output_type": "stream",
     "text": [
      "                                                                         \r"
     ]
    },
    {
     "name": "stdout",
     "output_type": "stream",
     "text": [
      "Epoch 49/100 - Train Loss: 0.200393, Val Loss: 0.212906, Duration: 217.49s\n",
      "Test R2 Scores: R2(mju): 0.4968, R2(mjuJ): 0.8950, R2(sigmaJ): 0.8893, R2(varLT): 0.9524, R2(beta): 0.6952, R2(gamma): 0.8503, R2(lambda): 0.7528\n"
     ]
    },
    {
     "name": "stderr",
     "output_type": "stream",
     "text": [
      "                                                                         \r"
     ]
    },
    {
     "name": "stdout",
     "output_type": "stream",
     "text": [
      "Epoch 50/100 - Train Loss: 0.200076, Val Loss: 0.211110, Duration: 217.45s\n",
      "Test R2 Scores: R2(mju): 0.4650, R2(mjuJ): 0.8914, R2(sigmaJ): 0.8971, R2(varLT): 0.9493, R2(beta): 0.7069, R2(gamma): 0.8538, R2(lambda): 0.7423\n"
     ]
    },
    {
     "name": "stderr",
     "output_type": "stream",
     "text": [
      "                                                                         \r"
     ]
    },
    {
     "name": "stdout",
     "output_type": "stream",
     "text": [
      "Epoch 51/100 - Train Loss: 0.199765, Val Loss: 0.221273, Duration: 217.48s\n",
      "Test R2 Scores: R2(mju): 0.4615, R2(mjuJ): 0.8922, R2(sigmaJ): 0.8797, R2(varLT): 0.9512, R2(beta): 0.6951, R2(gamma): 0.8243, R2(lambda): 0.7349\n"
     ]
    },
    {
     "name": "stderr",
     "output_type": "stream",
     "text": [
      "                                                                         \r"
     ]
    },
    {
     "name": "stdout",
     "output_type": "stream",
     "text": [
      "Epoch 52/100 - Train Loss: 0.199298, Val Loss: 0.214811, Duration: 217.52s\n",
      "Test R2 Scores: R2(mju): 0.4680, R2(mjuJ): 0.8921, R2(sigmaJ): 0.8960, R2(varLT): 0.9520, R2(beta): 0.7036, R2(gamma): 0.8343, R2(lambda): 0.7463\n"
     ]
    },
    {
     "name": "stderr",
     "output_type": "stream",
     "text": [
      "                                                                         \r"
     ]
    },
    {
     "name": "stdout",
     "output_type": "stream",
     "text": [
      "Epoch 53/100 - Train Loss: 0.199017, Val Loss: 0.215783, Duration: 217.44s\n",
      "Test R2 Scores: R2(mju): 0.4893, R2(mjuJ): 0.8970, R2(sigmaJ): 0.8949, R2(varLT): 0.9505, R2(beta): 0.6900, R2(gamma): 0.8463, R2(lambda): 0.7296\n"
     ]
    },
    {
     "name": "stderr",
     "output_type": "stream",
     "text": [
      "                                                                         \r"
     ]
    },
    {
     "name": "stdout",
     "output_type": "stream",
     "text": [
      "Epoch 54/100 - Train Loss: 0.198575, Val Loss: 0.218561, Duration: 217.47s\n",
      "Test R2 Scores: R2(mju): 0.5048, R2(mjuJ): 0.8937, R2(sigmaJ): 0.8979, R2(varLT): 0.9517, R2(beta): 0.6847, R2(gamma): 0.8026, R2(lambda): 0.7310\n"
     ]
    },
    {
     "name": "stderr",
     "output_type": "stream",
     "text": [
      "                                                                         \r"
     ]
    },
    {
     "name": "stdout",
     "output_type": "stream",
     "text": [
      "Epoch 55/100 - Train Loss: 0.198637, Val Loss: 0.217685, Duration: 217.39s\n",
      "Test R2 Scores: R2(mju): 0.4980, R2(mjuJ): 0.8961, R2(sigmaJ): 0.8920, R2(varLT): 0.9514, R2(beta): 0.6659, R2(gamma): 0.8471, R2(lambda): 0.7398\n"
     ]
    },
    {
     "name": "stderr",
     "output_type": "stream",
     "text": [
      "                                                                         \r"
     ]
    },
    {
     "name": "stdout",
     "output_type": "stream",
     "text": [
      "Epoch 56/100 - Train Loss: 0.198100, Val Loss: 0.217727, Duration: 217.45s\n",
      "Test R2 Scores: R2(mju): 0.5021, R2(mjuJ): 0.8930, R2(sigmaJ): 0.8912, R2(varLT): 0.9508, R2(beta): 0.6936, R2(gamma): 0.8355, R2(lambda): 0.7243\n"
     ]
    },
    {
     "name": "stderr",
     "output_type": "stream",
     "text": [
      "                                                                         \r"
     ]
    },
    {
     "name": "stdout",
     "output_type": "stream",
     "text": [
      "Epoch 57/100 - Train Loss: 0.197423, Val Loss: 0.215819, Duration: 217.45s\n",
      "Test R2 Scores: R2(mju): 0.4941, R2(mjuJ): 0.8902, R2(sigmaJ): 0.8930, R2(varLT): 0.9504, R2(beta): 0.6849, R2(gamma): 0.8351, R2(lambda): 0.7460\n"
     ]
    },
    {
     "name": "stderr",
     "output_type": "stream",
     "text": [
      "                                                                         \r"
     ]
    },
    {
     "name": "stdout",
     "output_type": "stream",
     "text": [
      "Epoch 58/100 - Train Loss: 0.197725, Val Loss: 0.214341, Duration: 217.46s\n",
      "Test R2 Scores: R2(mju): 0.4966, R2(mjuJ): 0.8937, R2(sigmaJ): 0.8992, R2(varLT): 0.9515, R2(beta): 0.6784, R2(gamma): 0.8441, R2(lambda): 0.7297\n"
     ]
    },
    {
     "name": "stderr",
     "output_type": "stream",
     "text": [
      "                                                                         \r"
     ]
    },
    {
     "name": "stdout",
     "output_type": "stream",
     "text": [
      "Epoch 59/100 - Train Loss: 0.196819, Val Loss: 0.209484, Duration: 217.39s\n",
      "Test R2 Scores: R2(mju): 0.4936, R2(mjuJ): 0.8955, R2(sigmaJ): 0.8980, R2(varLT): 0.9514, R2(beta): 0.7087, R2(gamma): 0.8580, R2(lambda): 0.7319\n"
     ]
    },
    {
     "name": "stderr",
     "output_type": "stream",
     "text": [
      "                                                                         \r"
     ]
    },
    {
     "name": "stdout",
     "output_type": "stream",
     "text": [
      "Epoch 60/100 - Train Loss: 0.196680, Val Loss: 0.210604, Duration: 217.42s\n",
      "Test R2 Scores: R2(mju): 0.4983, R2(mjuJ): 0.8961, R2(sigmaJ): 0.9015, R2(varLT): 0.9508, R2(beta): 0.6940, R2(gamma): 0.8429, R2(lambda): 0.7442\n"
     ]
    },
    {
     "name": "stderr",
     "output_type": "stream",
     "text": [
      "                                                                         \r"
     ]
    },
    {
     "name": "stdout",
     "output_type": "stream",
     "text": [
      "Epoch 61/100 - Train Loss: 0.196439, Val Loss: 0.208888, Duration: 217.44s\n",
      "Test R2 Scores: R2(mju): 0.4957, R2(mjuJ): 0.8925, R2(sigmaJ): 0.9058, R2(varLT): 0.9520, R2(beta): 0.7217, R2(gamma): 0.8572, R2(lambda): 0.7420\n"
     ]
    },
    {
     "name": "stderr",
     "output_type": "stream",
     "text": [
      "                                                                         \r"
     ]
    },
    {
     "name": "stdout",
     "output_type": "stream",
     "text": [
      "Epoch 62/100 - Train Loss: 0.195818, Val Loss: 0.210170, Duration: 217.44s\n",
      "Test R2 Scores: R2(mju): 0.4948, R2(mjuJ): 0.8981, R2(sigmaJ): 0.8996, R2(varLT): 0.9514, R2(beta): 0.6977, R2(gamma): 0.8531, R2(lambda): 0.7497\n"
     ]
    },
    {
     "name": "stderr",
     "output_type": "stream",
     "text": [
      "                                                                         \r"
     ]
    },
    {
     "name": "stdout",
     "output_type": "stream",
     "text": [
      "Epoch 63/100 - Train Loss: 0.195841, Val Loss: 0.224753, Duration: 217.44s\n",
      "Test R2 Scores: R2(mju): 0.4621, R2(mjuJ): 0.8922, R2(sigmaJ): 0.8822, R2(varLT): 0.9477, R2(beta): 0.6819, R2(gamma): 0.8181, R2(lambda): 0.7151\n"
     ]
    },
    {
     "name": "stderr",
     "output_type": "stream",
     "text": [
      "                                                                         \r"
     ]
    },
    {
     "name": "stdout",
     "output_type": "stream",
     "text": [
      "Epoch 64/100 - Train Loss: 0.195446, Val Loss: 0.213099, Duration: 217.43s\n",
      "Test R2 Scores: R2(mju): 0.4812, R2(mjuJ): 0.8933, R2(sigmaJ): 0.8878, R2(varLT): 0.9515, R2(beta): 0.7029, R2(gamma): 0.8412, R2(lambda): 0.7298\n"
     ]
    },
    {
     "name": "stderr",
     "output_type": "stream",
     "text": [
      "                                                                         \r"
     ]
    },
    {
     "name": "stdout",
     "output_type": "stream",
     "text": [
      "Epoch 65/100 - Train Loss: 0.195317, Val Loss: 0.211409, Duration: 217.46s\n",
      "Test R2 Scores: R2(mju): 0.5022, R2(mjuJ): 0.8948, R2(sigmaJ): 0.9019, R2(varLT): 0.9526, R2(beta): 0.6850, R2(gamma): 0.8482, R2(lambda): 0.7349\n"
     ]
    },
    {
     "name": "stderr",
     "output_type": "stream",
     "text": [
      "                                                                         \r"
     ]
    },
    {
     "name": "stdout",
     "output_type": "stream",
     "text": [
      "Epoch 66/100 - Train Loss: 0.194891, Val Loss: 0.212722, Duration: 217.49s\n",
      "Test R2 Scores: R2(mju): 0.4901, R2(mjuJ): 0.8935, R2(sigmaJ): 0.9046, R2(varLT): 0.9514, R2(beta): 0.7078, R2(gamma): 0.8232, R2(lambda): 0.7489\n"
     ]
    },
    {
     "name": "stderr",
     "output_type": "stream",
     "text": [
      "                                                                         \r"
     ]
    },
    {
     "name": "stdout",
     "output_type": "stream",
     "text": [
      "Epoch 67/100 - Train Loss: 0.194769, Val Loss: 0.209196, Duration: 217.48s\n",
      "Test R2 Scores: R2(mju): 0.4898, R2(mjuJ): 0.8962, R2(sigmaJ): 0.9020, R2(varLT): 0.9509, R2(beta): 0.7109, R2(gamma): 0.8501, R2(lambda): 0.7389\n"
     ]
    },
    {
     "name": "stderr",
     "output_type": "stream",
     "text": [
      "                                                                         \r"
     ]
    },
    {
     "name": "stdout",
     "output_type": "stream",
     "text": [
      "Epoch 68/100 - Train Loss: 0.194065, Val Loss: 0.211389, Duration: 217.45s\n",
      "Test R2 Scores: R2(mju): 0.4974, R2(mjuJ): 0.8952, R2(sigmaJ): 0.8860, R2(varLT): 0.9522, R2(beta): 0.7010, R2(gamma): 0.8462, R2(lambda): 0.7289\n"
     ]
    },
    {
     "name": "stderr",
     "output_type": "stream",
     "text": [
      "                                                                         \r"
     ]
    },
    {
     "name": "stdout",
     "output_type": "stream",
     "text": [
      "Epoch 69/100 - Train Loss: 0.193756, Val Loss: 0.212939, Duration: 217.53s\n",
      "Test R2 Scores: R2(mju): 0.4958, R2(mjuJ): 0.8911, R2(sigmaJ): 0.8872, R2(varLT): 0.9522, R2(beta): 0.7058, R2(gamma): 0.8429, R2(lambda): 0.7319\n"
     ]
    },
    {
     "name": "stderr",
     "output_type": "stream",
     "text": [
      "                                                                         \r"
     ]
    },
    {
     "name": "stdout",
     "output_type": "stream",
     "text": [
      "Epoch 70/100 - Train Loss: 0.193744, Val Loss: 0.218790, Duration: 217.51s\n",
      "Test R2 Scores: R2(mju): 0.4760, R2(mjuJ): 0.8977, R2(sigmaJ): 0.9053, R2(varLT): 0.9521, R2(beta): 0.6555, R2(gamma): 0.8391, R2(lambda): 0.7440\n"
     ]
    },
    {
     "name": "stderr",
     "output_type": "stream",
     "text": [
      "                                                                         \r"
     ]
    },
    {
     "name": "stdout",
     "output_type": "stream",
     "text": [
      "Epoch 71/100 - Train Loss: 0.193358, Val Loss: 0.215895, Duration: 217.55s\n",
      "Test R2 Scores: R2(mju): 0.4626, R2(mjuJ): 0.8879, R2(sigmaJ): 0.8982, R2(varLT): 0.9511, R2(beta): 0.7034, R2(gamma): 0.8495, R2(lambda): 0.7493\n"
     ]
    },
    {
     "name": "stderr",
     "output_type": "stream",
     "text": [
      "                                                                         \r"
     ]
    },
    {
     "name": "stdout",
     "output_type": "stream",
     "text": [
      "Epoch 72/100 - Train Loss: 0.193083, Val Loss: 0.217380, Duration: 217.55s\n",
      "Test R2 Scores: R2(mju): 0.4945, R2(mjuJ): 0.8933, R2(sigmaJ): 0.8790, R2(varLT): 0.9505, R2(beta): 0.7008, R2(gamma): 0.8293, R2(lambda): 0.7257\n"
     ]
    },
    {
     "name": "stderr",
     "output_type": "stream",
     "text": [
      "                                                                         \r"
     ]
    },
    {
     "name": "stdout",
     "output_type": "stream",
     "text": [
      "Epoch 73/100 - Train Loss: 0.192724, Val Loss: 0.209072, Duration: 217.52s\n",
      "Test R2 Scores: R2(mju): 0.4986, R2(mjuJ): 0.8945, R2(sigmaJ): 0.9015, R2(varLT): 0.9525, R2(beta): 0.6869, R2(gamma): 0.8461, R2(lambda): 0.7496\n"
     ]
    },
    {
     "name": "stderr",
     "output_type": "stream",
     "text": [
      "                                                                         \r"
     ]
    },
    {
     "name": "stdout",
     "output_type": "stream",
     "text": [
      "Epoch 74/100 - Train Loss: 0.192499, Val Loss: 0.216918, Duration: 217.56s\n",
      "Test R2 Scores: R2(mju): 0.4708, R2(mjuJ): 0.8890, R2(sigmaJ): 0.9014, R2(varLT): 0.9500, R2(beta): 0.6923, R2(gamma): 0.8482, R2(lambda): 0.7254\n"
     ]
    },
    {
     "name": "stderr",
     "output_type": "stream",
     "text": [
      "                                                                         \r"
     ]
    },
    {
     "name": "stdout",
     "output_type": "stream",
     "text": [
      "Epoch 75/100 - Train Loss: 0.192246, Val Loss: 0.209844, Duration: 217.51s\n",
      "Test R2 Scores: R2(mju): 0.4969, R2(mjuJ): 0.8961, R2(sigmaJ): 0.9011, R2(varLT): 0.9507, R2(beta): 0.7043, R2(gamma): 0.8519, R2(lambda): 0.7425\n"
     ]
    },
    {
     "name": "stderr",
     "output_type": "stream",
     "text": [
      "                                                                         \r"
     ]
    },
    {
     "name": "stdout",
     "output_type": "stream",
     "text": [
      "Epoch 76/100 - Train Loss: 0.191910, Val Loss: 0.215762, Duration: 217.58s\n",
      "Test R2 Scores: R2(mju): 0.4941, R2(mjuJ): 0.8950, R2(sigmaJ): 0.9032, R2(varLT): 0.9494, R2(beta): 0.6737, R2(gamma): 0.8503, R2(lambda): 0.7385\n"
     ]
    },
    {
     "name": "stderr",
     "output_type": "stream",
     "text": [
      "                                                                         \r"
     ]
    },
    {
     "name": "stdout",
     "output_type": "stream",
     "text": [
      "Epoch 77/100 - Train Loss: 0.191633, Val Loss: 0.209539, Duration: 217.50s\n",
      "Test R2 Scores: R2(mju): 0.4948, R2(mjuJ): 0.8924, R2(sigmaJ): 0.9066, R2(varLT): 0.9517, R2(beta): 0.7074, R2(gamma): 0.8447, R2(lambda): 0.7302\n"
     ]
    },
    {
     "name": "stderr",
     "output_type": "stream",
     "text": [
      "                                                                         \r"
     ]
    },
    {
     "name": "stdout",
     "output_type": "stream",
     "text": [
      "Epoch 78/100 - Train Loss: 0.191025, Val Loss: 0.213002, Duration: 217.57s\n",
      "Test R2 Scores: R2(mju): 0.4866, R2(mjuJ): 0.8951, R2(sigmaJ): 0.9018, R2(varLT): 0.9525, R2(beta): 0.6855, R2(gamma): 0.8472, R2(lambda): 0.7354\n"
     ]
    },
    {
     "name": "stderr",
     "output_type": "stream",
     "text": [
      "                                                                         \r"
     ]
    },
    {
     "name": "stdout",
     "output_type": "stream",
     "text": [
      "Epoch 79/100 - Train Loss: 0.190999, Val Loss: 0.223397, Duration: 217.52s\n",
      "Test R2 Scores: R2(mju): 0.4700, R2(mjuJ): 0.8942, R2(sigmaJ): 0.8888, R2(varLT): 0.9513, R2(beta): 0.6963, R2(gamma): 0.8245, R2(lambda): 0.7107\n"
     ]
    },
    {
     "name": "stderr",
     "output_type": "stream",
     "text": [
      "                                                                         \r"
     ]
    },
    {
     "name": "stdout",
     "output_type": "stream",
     "text": [
      "Epoch 80/100 - Train Loss: 0.190796, Val Loss: 0.208801, Duration: 217.54s\n",
      "Test R2 Scores: R2(mju): 0.4912, R2(mjuJ): 0.8926, R2(sigmaJ): 0.9036, R2(varLT): 0.9503, R2(beta): 0.7046, R2(gamma): 0.8530, R2(lambda): 0.7341\n"
     ]
    },
    {
     "name": "stderr",
     "output_type": "stream",
     "text": [
      "                                                                         \r"
     ]
    },
    {
     "name": "stdout",
     "output_type": "stream",
     "text": [
      "Epoch 81/100 - Train Loss: 0.190913, Val Loss: 0.211418, Duration: 217.59s\n",
      "Test R2 Scores: R2(mju): 0.4926, R2(mjuJ): 0.8960, R2(sigmaJ): 0.8883, R2(varLT): 0.9521, R2(beta): 0.6923, R2(gamma): 0.8487, R2(lambda): 0.7441\n"
     ]
    },
    {
     "name": "stderr",
     "output_type": "stream",
     "text": [
      "                                                                         \r"
     ]
    },
    {
     "name": "stdout",
     "output_type": "stream",
     "text": [
      "Epoch 82/100 - Train Loss: 0.190378, Val Loss: 0.215430, Duration: 217.63s\n",
      "Test R2 Scores: R2(mju): 0.4556, R2(mjuJ): 0.8945, R2(sigmaJ): 0.9009, R2(varLT): 0.9522, R2(beta): 0.6858, R2(gamma): 0.8344, R2(lambda): 0.7291\n"
     ]
    },
    {
     "name": "stderr",
     "output_type": "stream",
     "text": [
      "                                                                         \r"
     ]
    },
    {
     "name": "stdout",
     "output_type": "stream",
     "text": [
      "Epoch 83/100 - Train Loss: 0.189489, Val Loss: 0.211467, Duration: 217.66s\n",
      "Test R2 Scores: R2(mju): 0.4892, R2(mjuJ): 0.8964, R2(sigmaJ): 0.8977, R2(varLT): 0.9519, R2(beta): 0.7032, R2(gamma): 0.8443, R2(lambda): 0.7178\n"
     ]
    },
    {
     "name": "stderr",
     "output_type": "stream",
     "text": [
      "                                                                         \r"
     ]
    },
    {
     "name": "stdout",
     "output_type": "stream",
     "text": [
      "Epoch 84/100 - Train Loss: 0.189934, Val Loss: 0.210511, Duration: 217.61s\n",
      "Test R2 Scores: R2(mju): 0.4976, R2(mjuJ): 0.8912, R2(sigmaJ): 0.9044, R2(varLT): 0.9519, R2(beta): 0.6993, R2(gamma): 0.8507, R2(lambda): 0.7321\n"
     ]
    },
    {
     "name": "stderr",
     "output_type": "stream",
     "text": [
      "                                                                         \r"
     ]
    },
    {
     "name": "stdout",
     "output_type": "stream",
     "text": [
      "Epoch 85/100 - Train Loss: 0.189499, Val Loss: 0.214223, Duration: 217.63s\n",
      "Test R2 Scores: R2(mju): 0.4924, R2(mjuJ): 0.8936, R2(sigmaJ): 0.9027, R2(varLT): 0.9508, R2(beta): 0.6912, R2(gamma): 0.8382, R2(lambda): 0.7322\n"
     ]
    },
    {
     "name": "stderr",
     "output_type": "stream",
     "text": [
      "                                                                         \r"
     ]
    },
    {
     "name": "stdout",
     "output_type": "stream",
     "text": [
      "Epoch 86/100 - Train Loss: 0.188828, Val Loss: 0.212750, Duration: 217.65s\n",
      "Test R2 Scores: R2(mju): 0.4953, R2(mjuJ): 0.8956, R2(sigmaJ): 0.9006, R2(varLT): 0.9501, R2(beta): 0.6999, R2(gamma): 0.8233, R2(lambda): 0.7447\n"
     ]
    },
    {
     "name": "stderr",
     "output_type": "stream",
     "text": [
      "                                                                         \r"
     ]
    },
    {
     "name": "stdout",
     "output_type": "stream",
     "text": [
      "Epoch 87/100 - Train Loss: 0.188680, Val Loss: 0.220784, Duration: 217.60s\n",
      "Test R2 Scores: R2(mju): 0.4770, R2(mjuJ): 0.8916, R2(sigmaJ): 0.8872, R2(varLT): 0.9529, R2(beta): 0.6756, R2(gamma): 0.8470, R2(lambda): 0.7065\n"
     ]
    },
    {
     "name": "stderr",
     "output_type": "stream",
     "text": [
      "                                                                         \r"
     ]
    },
    {
     "name": "stdout",
     "output_type": "stream",
     "text": [
      "Epoch 88/100 - Train Loss: 0.188175, Val Loss: 0.210583, Duration: 217.56s\n",
      "Test R2 Scores: R2(mju): 0.4902, R2(mjuJ): 0.8937, R2(sigmaJ): 0.9010, R2(varLT): 0.9514, R2(beta): 0.7119, R2(gamma): 0.8530, R2(lambda): 0.7339\n"
     ]
    },
    {
     "name": "stderr",
     "output_type": "stream",
     "text": [
      "                                                                         \r"
     ]
    },
    {
     "name": "stdout",
     "output_type": "stream",
     "text": [
      "Epoch 89/100 - Train Loss: 0.188138, Val Loss: 0.215291, Duration: 217.62s\n",
      "Test R2 Scores: R2(mju): 0.4930, R2(mjuJ): 0.8937, R2(sigmaJ): 0.9000, R2(varLT): 0.9530, R2(beta): 0.6732, R2(gamma): 0.8497, R2(lambda): 0.7150\n"
     ]
    },
    {
     "name": "stderr",
     "output_type": "stream",
     "text": [
      "                                                                         \r"
     ]
    },
    {
     "name": "stdout",
     "output_type": "stream",
     "text": [
      "Epoch 90/100 - Train Loss: 0.187324, Val Loss: 0.212166, Duration: 217.64s\n",
      "Test R2 Scores: R2(mju): 0.4810, R2(mjuJ): 0.8937, R2(sigmaJ): 0.9027, R2(varLT): 0.9522, R2(beta): 0.6792, R2(gamma): 0.8416, R2(lambda): 0.7305\n"
     ]
    },
    {
     "name": "stderr",
     "output_type": "stream",
     "text": [
      "                                                                         \r"
     ]
    },
    {
     "name": "stdout",
     "output_type": "stream",
     "text": [
      "Epoch 91/100 - Train Loss: 0.187527, Val Loss: 0.211372, Duration: 217.62s\n",
      "Test R2 Scores: R2(mju): 0.4854, R2(mjuJ): 0.8956, R2(sigmaJ): 0.8942, R2(varLT): 0.9528, R2(beta): 0.7005, R2(gamma): 0.8389, R2(lambda): 0.7378\n"
     ]
    },
    {
     "name": "stderr",
     "output_type": "stream",
     "text": [
      "                                                                         \r"
     ]
    },
    {
     "name": "stdout",
     "output_type": "stream",
     "text": [
      "Epoch 92/100 - Train Loss: 0.187096, Val Loss: 0.214254, Duration: 217.59s\n",
      "Test R2 Scores: R2(mju): 0.4783, R2(mjuJ): 0.8913, R2(sigmaJ): 0.8943, R2(varLT): 0.9518, R2(beta): 0.6896, R2(gamma): 0.8485, R2(lambda): 0.7194\n"
     ]
    },
    {
     "name": "stderr",
     "output_type": "stream",
     "text": [
      "                                                                         \r"
     ]
    },
    {
     "name": "stdout",
     "output_type": "stream",
     "text": [
      "Epoch 93/100 - Train Loss: 0.186883, Val Loss: 0.214739, Duration: 217.61s\n",
      "Test R2 Scores: R2(mju): 0.4900, R2(mjuJ): 0.8951, R2(sigmaJ): 0.8952, R2(varLT): 0.9503, R2(beta): 0.6917, R2(gamma): 0.8301, R2(lambda): 0.7399\n"
     ]
    },
    {
     "name": "stderr",
     "output_type": "stream",
     "text": [
      "                                                                         \r"
     ]
    },
    {
     "name": "stdout",
     "output_type": "stream",
     "text": [
      "Epoch 94/100 - Train Loss: 0.186663, Val Loss: 0.221414, Duration: 217.72s\n",
      "Test R2 Scores: R2(mju): 0.4966, R2(mjuJ): 0.8952, R2(sigmaJ): 0.8919, R2(varLT): 0.9508, R2(beta): 0.6711, R2(gamma): 0.8464, R2(lambda): 0.6964\n"
     ]
    },
    {
     "name": "stderr",
     "output_type": "stream",
     "text": [
      "                                                                         \r"
     ]
    },
    {
     "name": "stdout",
     "output_type": "stream",
     "text": [
      "Epoch 95/100 - Train Loss: 0.186378, Val Loss: 0.213942, Duration: 217.63s\n",
      "Test R2 Scores: R2(mju): 0.4852, R2(mjuJ): 0.8953, R2(sigmaJ): 0.8775, R2(varLT): 0.9525, R2(beta): 0.6967, R2(gamma): 0.8523, R2(lambda): 0.7249\n"
     ]
    },
    {
     "name": "stderr",
     "output_type": "stream",
     "text": [
      "                                                                         \r"
     ]
    },
    {
     "name": "stdout",
     "output_type": "stream",
     "text": [
      "Epoch 96/100 - Train Loss: 0.186083, Val Loss: 0.213816, Duration: 217.57s\n",
      "Test R2 Scores: R2(mju): 0.4817, R2(mjuJ): 0.8937, R2(sigmaJ): 0.8936, R2(varLT): 0.9505, R2(beta): 0.6975, R2(gamma): 0.8501, R2(lambda): 0.7096\n"
     ]
    },
    {
     "name": "stderr",
     "output_type": "stream",
     "text": [
      "                                                                         \r"
     ]
    },
    {
     "name": "stdout",
     "output_type": "stream",
     "text": [
      "Epoch 97/100 - Train Loss: 0.185770, Val Loss: 0.217068, Duration: 217.66s\n",
      "Test R2 Scores: R2(mju): 0.4440, R2(mjuJ): 0.8960, R2(sigmaJ): 0.8882, R2(varLT): 0.9505, R2(beta): 0.6915, R2(gamma): 0.8446, R2(lambda): 0.7372\n"
     ]
    },
    {
     "name": "stderr",
     "output_type": "stream",
     "text": [
      "                                                                         \r"
     ]
    },
    {
     "name": "stdout",
     "output_type": "stream",
     "text": [
      "Epoch 98/100 - Train Loss: 0.185594, Val Loss: 0.219869, Duration: 217.64s\n",
      "Test R2 Scores: R2(mju): 0.4380, R2(mjuJ): 0.8923, R2(sigmaJ): 0.8973, R2(varLT): 0.9519, R2(beta): 0.6709, R2(gamma): 0.8274, R2(lambda): 0.7175\n"
     ]
    },
    {
     "name": "stderr",
     "output_type": "stream",
     "text": [
      "                                                                         \r"
     ]
    },
    {
     "name": "stdout",
     "output_type": "stream",
     "text": [
      "Epoch 99/100 - Train Loss: 0.185167, Val Loss: 0.214734, Duration: 217.73s\n",
      "Test R2 Scores: R2(mju): 0.4777, R2(mjuJ): 0.8931, R2(sigmaJ): 0.8888, R2(varLT): 0.9533, R2(beta): 0.6901, R2(gamma): 0.8496, R2(lambda): 0.7286\n"
     ]
    },
    {
     "name": "stderr",
     "output_type": "stream",
     "text": [
      "/tmp/ipykernel_591516/3443863026.py:328: FutureWarning: You are using `torch.load` with `weights_only=False` (the current default value), which uses the default pickle module implicitly. It is possible to construct malicious pickle data which will execute arbitrary code during unpickling (See https://github.com/pytorch/pytorch/blob/main/SECURITY.md#untrusted-models for more details). In a future release, the default value for `weights_only` will be flipped to `True`. This limits the functions that could be executed during unpickling. Arbitrary objects will no longer be allowed to be loaded via this mode unless they are explicitly allowlisted by the user via `torch.serialization.add_safe_globals`. We recommend you start setting `weights_only=True` for any use case where you don't have full control of the loaded file. Please open an issue on GitHub for any issues related to this experimental feature.\n",
      "  model.load_state_dict(torch.load(model_save_path))\n"
     ]
    },
    {
     "name": "stdout",
     "output_type": "stream",
     "text": [
      "Epoch 100/100 - Train Loss: 0.184581, Val Loss: 0.216312, Duration: 217.66s\n",
      "Test R2 Scores: R2(mju): 0.4794, R2(mjuJ): 0.8904, R2(sigmaJ): 0.9006, R2(varLT): 0.9504, R2(beta): 0.6874, R2(gamma): 0.8473, R2(lambda): 0.7343\n",
      "Early stopping triggered after 20 epochs without improvement on validation set.\n",
      "Training finished.\n",
      "Loading best model weights from best_svjd_lstmtransformersvjd_model.pth based on validation loss...\n",
      "\n",
      "--- Final R2 Scores on Test Set (LSTMTransformerSVJD) ---\n"
     ]
    },
    {
     "name": "stderr",
     "output_type": "stream",
     "text": [
      "                                                                      \r"
     ]
    },
    {
     "name": "stdout",
     "output_type": "stream",
     "text": [
      "R2(mju): 0.4912, R2(mjuJ): 0.8926, R2(sigmaJ): 0.9036, R2(varLT): 0.9503, R2(beta): 0.7046, R2(gamma): 0.8530, R2(lambda): 0.7341\n",
      "\n",
      "--- Evaluating model LSTMTransformerSVJD on 100 samples with fixed parameters ---\n"
     ]
    },
    {
     "name": "stderr",
     "output_type": "stream",
     "text": [
      "Predicting on fixed-param samples: 100%|██████████| 7/7 [00:00<00:00, 51.18it/s]\n"
     ]
    },
    {
     "name": "stdout",
     "output_type": "stream",
     "text": [
      "--- Evaluation with fixed parameters complete. ---\n",
      "\n",
      "DataFrame from fixed parameter evaluation (LSTMTransformerSVJD, first 5 rows):\n",
      "   mju_true  mju_pred  mjuJ_true  mjuJ_pred  sigmaJ_true  sigmaJ_pred  \\\n",
      "0    0.0001  0.000106       0.01   0.020303         0.05     0.058226   \n",
      "1    0.0001 -0.000018       0.01   0.022349         0.05     0.044525   \n",
      "2    0.0001  0.000028       0.01   0.024988         0.05     0.057359   \n",
      "3    0.0001 -0.000080       0.01   0.000132         0.05     0.048335   \n",
      "4    0.0001 -0.000047       0.01   0.009099         0.05     0.068382   \n",
      "\n",
      "   varLT_true  varLT_pred  beta_true  beta_pred  gamma_true  gamma_pred  \\\n",
      "0      0.0002    0.000208       0.95   0.933085         0.2    0.229987   \n",
      "1      0.0002    0.000177       0.95   0.938470         0.2    0.195718   \n",
      "2      0.0002    0.000194       0.95   0.955397         0.2    0.222911   \n",
      "3      0.0002    0.000193       0.95   0.900386         0.2    0.305399   \n",
      "4      0.0002    0.000179       0.95   0.959047         0.2    0.165144   \n",
      "\n",
      "   lambda_true  lambda_pred  \n",
      "0         0.02     0.020700  \n",
      "1         0.02     0.025369  \n",
      "2         0.02     0.019290  \n",
      "3         0.02     0.025772  \n",
      "4         0.02     0.013361  \n",
      "\n",
      "--- Testing LSTMTransformerSVJD for 'gamma' from 0.0500 to 0.5000 ---\n"
     ]
    },
    {
     "name": "stderr",
     "output_type": "stream",
     "text": [
      "Testing range for gamma: 100%|██████████| 10/10 [00:00<00:00, 110.91it/s]"
     ]
    },
    {
     "name": "stdout",
     "output_type": "stream",
     "text": [
      "--- Parameter range testing for 'gamma' complete. ---\n",
      "\n",
      "DataFrame from 'gamma' range test (LSTMTransformerSVJD, first 5 rows):\n",
      "   gamma_true  mju_pred  mjuJ_pred  sigmaJ_pred  varLT_pred  beta_pred  \\\n",
      "0        0.05  0.000071   0.013362     0.059445    0.000206   0.840341   \n",
      "1        0.10  0.000255   0.017185     0.046173    0.000187   0.936881   \n",
      "2        0.15  0.000053   0.016413     0.051196    0.000179   0.926072   \n",
      "3        0.20  0.000120   0.020639     0.056835    0.000207   0.873445   \n",
      "4        0.25 -0.000129   0.020157     0.068087    0.000168   0.952358   \n",
      "\n",
      "   gamma_pred  lambda_pred  \n",
      "0    0.082759     0.017765  \n",
      "1    0.115821     0.025518  \n",
      "2    0.188630     0.024458  \n",
      "3    0.310046     0.019021  \n",
      "4    0.246619     0.014540  \n",
      "\n",
      "Script finished.\n"
     ]
    },
    {
     "name": "stderr",
     "output_type": "stream",
     "text": [
      "\n"
     ]
    }
   ],
   "source": [
    "import torch\n",
    "import torch.nn as nn\n",
    "import torch.optim as optim\n",
    "import torch.nn.functional as F\n",
    "from torch.utils.data import TensorDataset, DataLoader, random_split\n",
    "import numpy as np\n",
    "import time\n",
    "from tqdm import tqdm\n",
    "import pandas as pd\n",
    "import math # For Positional Encoding\n",
    "\n",
    "# --- Configuration ---\n",
    "# Data Generation Parameters\n",
    "N_SAMPLES_TOTAL = 50000\n",
    "N_TEST_SAMPLES = 500\n",
    "T_LENGTH = 2000\n",
    "VAL_SPLIT_RATIO = 0.1\n",
    "\n",
    "# SVJD Model Parameter Ranges\n",
    "MU_RANGE = (-0.1 / 250, 0.1 / 250)\n",
    "V_LT_RANGE = (0.005**2, 0.015**2) \n",
    "BETA_RANGE = (0.79, 0.99)\n",
    "GAMMA_RANGE = (0.05, 0.50)\n",
    "MU_J_RANGE = (-0.05, 0.05)\n",
    "SIGMA_J_RANGE = (0.01, 0.10)\n",
    "LAMBDA_RANGE = (0.005, 0.05)\n",
    "\n",
    "PARAM_NAMES = [\"mju\", \"mjuJ\", \"sigmaJ\", \"varLT\", \"beta\", \"gamma\", \"lambda\"]\n",
    "NUM_RESPONSES = 7\n",
    "\n",
    "# --- LSTM-Transformer Architecture Parameters ---\n",
    "INPUT_FEATURE_DIM = 1 # Number of features per time step (e.g., 1 for raw returns)\n",
    "\n",
    "# LSTM Part\n",
    "LSTM_HIDDEN_SIZE = 64\n",
    "LSTM_NUM_LAYERS = 2\n",
    "LSTM_BIDIRECTIONAL = True\n",
    "LSTM_DROPOUT = 0.1 # Dropout between LSTM layers if num_layers > 1\n",
    "\n",
    "# Dimension of LSTM output features fed to Transformer's input projection\n",
    "LSTM_OUTPUT_FEATURE_DIM = LSTM_HIDDEN_SIZE * (2 if LSTM_BIDIRECTIONAL else 1)\n",
    "\n",
    "# Transformer Part\n",
    "TRANSFORMER_D_MODEL = 64  # Embedding dimension for the Transformer\n",
    "TRANSFORMER_NHEAD = 4     # Number of attention heads (d_model must be divisible by nhead)\n",
    "TRANSFORMER_NUM_ENCODER_LAYERS = 2 # Reduced slightly due to LSTM frontend\n",
    "TRANSFORMER_DIM_FEEDFORWARD = 128 \n",
    "TRANSFORMER_DROPOUT = 0.1\n",
    "PE_DROPOUT = 0.1          # Dropout for positional encoding\n",
    "\n",
    "# Final MLP Part (after Transformer)\n",
    "MLP_NUM_NEURONS_FC = 64 \n",
    "\n",
    "# Training Parameters\n",
    "BATCH_SIZE = 16 # Potentially small due to model size\n",
    "MAX_EPOCHS = 100      \n",
    "LEARNING_RATE = 1e-4 \n",
    "EARLY_STOPPING_PATIENCE = 20\n",
    "LEAKY_RELU_SLOPE = 0.01\n",
    "\n",
    "# Seed for reproducibility\n",
    "SEED = 42\n",
    "torch.manual_seed(SEED)\n",
    "np.random.seed(SEED)\n",
    "DEVICE = torch.device(\"cuda\" if torch.cuda.is_available() else \"cpu\")\n",
    "print(f\"Using device: {DEVICE}\")\n",
    "\n",
    "# --- 1. SVJD Data Generation (Vectorized) ---\n",
    "def generate_svjd_data(n_samples, t_length, fixed_params=None):\n",
    "    if fixed_params is not None:\n",
    "        action_desc = \"Generating SVJD Data (Fixed Params)\"\n",
    "        mu_val_arr = np.full(n_samples, fixed_params[0])\n",
    "        mu_j_val_arr = np.full(n_samples, fixed_params[1])\n",
    "        sigma_j_val_arr = np.full(n_samples, fixed_params[2])\n",
    "        v_lt_val_arr = np.full(n_samples, fixed_params[3])\n",
    "        beta_val_arr = np.full(n_samples, fixed_params[4])\n",
    "        gamma_val_arr = np.full(n_samples, fixed_params[5])\n",
    "        lambda_val_arr = np.full(n_samples, fixed_params[6])\n",
    "    else:\n",
    "        action_desc = \"Generating SVJD Data (Sampled Params)\"\n",
    "        mu_val_arr = np.random.uniform(*MU_RANGE, size=n_samples)\n",
    "        v_lt_base_arr = np.random.uniform(np.sqrt(V_LT_RANGE[0]), np.sqrt(V_LT_RANGE[1]), size=n_samples)\n",
    "        v_lt_val_arr = v_lt_base_arr**2\n",
    "        beta_val_arr = np.random.uniform(*BETA_RANGE, size=n_samples)\n",
    "        gamma_val_arr = np.random.uniform(*GAMMA_RANGE, size=n_samples)\n",
    "        mu_j_val_arr = np.random.uniform(*MU_J_RANGE, size=n_samples)\n",
    "        sigma_j_val_arr = np.random.uniform(*SIGMA_J_RANGE, size=n_samples)\n",
    "        lambda_val_arr = np.random.uniform(*LAMBDA_RANGE, size=n_samples)\n",
    "\n",
    "    all_params_np = np.column_stack((mu_val_arr, mu_j_val_arr, sigma_j_val_arr, \n",
    "                                     v_lt_val_arr, beta_val_arr, gamma_val_arr, lambda_val_arr))\n",
    "    alpha_val_arr = np.log(v_lt_val_arr) * (1 - beta_val_arr)\n",
    "    eps_h_all = np.random.normal(0, 1, size=(n_samples, t_length))\n",
    "    eps_r_all = np.random.normal(0, 1, size=(n_samples, t_length))\n",
    "    Z_all = np.random.binomial(1, lambda_val_arr[:, np.newaxis], size=(n_samples, t_length))\n",
    "    J_components_all = np.random.normal(mu_j_val_arr[:, np.newaxis], \n",
    "                                        sigma_j_val_arr[:, np.newaxis], \n",
    "                                        size=(n_samples, t_length))\n",
    "    J_all = J_components_all * Z_all\n",
    "    h_all = np.zeros((n_samples, t_length))\n",
    "    h_all[:, 0] = np.log(v_lt_val_arr)\n",
    "\n",
    "    use_tqdm_ht = n_samples > 100 or fixed_params is None \n",
    "    ht_iterator = tqdm(range(t_length - 1), desc=\"Simulating h_t paths\", leave=False) if use_tqdm_ht else range(t_length - 1)\n",
    "\n",
    "    for t_idx in ht_iterator:\n",
    "        h_all[:, t_idx + 1] = alpha_val_arr + beta_val_arr * h_all[:, t_idx] + gamma_val_arr * eps_h_all[:, t_idx]\n",
    "\n",
    "    sigma_t_sq_all = np.exp(h_all)\n",
    "    sigma_t_all = np.sqrt(sigma_t_sq_all)\n",
    "    returns_all_np = mu_val_arr[:, np.newaxis] + sigma_t_all * eps_r_all + J_all\n",
    "    return torch.tensor(returns_all_np, dtype=torch.float32), torch.tensor(all_params_np, dtype=torch.float32)\n",
    "\n",
    "# --- 2. Data Preprocessing ---\n",
    "def normalize_inputs(data_tensor, mean_val=None, std_val=None):\n",
    "    if mean_val is None or std_val is None: \n",
    "        mean_val = torch.mean(data_tensor) \n",
    "        std_val = torch.std(data_tensor)\n",
    "        if std_val == 0: std_val = 1.0\n",
    "    return (data_tensor - mean_val) / std_val, mean_val, std_val\n",
    "\n",
    "def normalize_outputs(data_tensor, mean_vals=None, std_vals=None):\n",
    "    if mean_vals is None or std_vals is None: \n",
    "        mean_vals = torch.mean(data_tensor, dim=0) \n",
    "        std_vals = torch.std(data_tensor, dim=0)\n",
    "        std_vals[std_vals == 0] = 1.0 \n",
    "    return (data_tensor - mean_vals) / std_vals, mean_vals, std_vals\n",
    "\n",
    "def denormalize_outputs(normalized_data_tensor, mean_vals, std_vals):\n",
    "    return normalized_data_tensor * std_vals + mean_vals\n",
    "\n",
    "# --- 3. LSTM-Transformer Model Definition ---\n",
    "class PositionalEncoding(nn.Module):\n",
    "    def __init__(self, d_model, dropout=0.1, max_len=5000):\n",
    "        super(PositionalEncoding, self).__init__()\n",
    "        self.dropout = nn.Dropout(p=dropout)\n",
    "        pe = torch.zeros(max_len, d_model)\n",
    "        position = torch.arange(0, max_len, dtype=torch.float).unsqueeze(1)\n",
    "        div_term = torch.exp(torch.arange(0, d_model, 2).float() * (-math.log(10000.0) / d_model))\n",
    "        pe[:, 0::2] = torch.sin(position * div_term)\n",
    "        if d_model % 2 != 0: \n",
    "             pe[:, 1::2] = torch.cos(position * div_term[:-1]) \n",
    "        else:\n",
    "             pe[:, 1::2] = torch.cos(position * div_term)\n",
    "        self.register_buffer('pe', pe)\n",
    "\n",
    "    def forward(self, x):\n",
    "        # x shape: (batch_size, seq_len, d_model)\n",
    "        x = x + self.pe[:x.size(1), :] \n",
    "        return self.dropout(x)\n",
    "\n",
    "class LSTMTransformerSVJD(nn.Module):\n",
    "    def __init__(self, num_input_features=INPUT_FEATURE_DIM, num_responses=NUM_RESPONSES,\n",
    "                 lstm_hidden_size=LSTM_HIDDEN_SIZE,\n",
    "                 lstm_num_layers=LSTM_NUM_LAYERS,\n",
    "                 lstm_bidirectional=LSTM_BIDIRECTIONAL,\n",
    "                 lstm_dropout=LSTM_DROPOUT,\n",
    "                 transformer_d_model=TRANSFORMER_D_MODEL,\n",
    "                 transformer_nhead=TRANSFORMER_NHEAD,\n",
    "                 transformer_num_encoder_layers=TRANSFORMER_NUM_ENCODER_LAYERS,\n",
    "                 transformer_dim_feedforward=TRANSFORMER_DIM_FEEDFORWARD,\n",
    "                 transformer_dropout=TRANSFORMER_DROPOUT,\n",
    "                 pe_dropout=PE_DROPOUT,\n",
    "                 mlp_fc_neurons=MLP_NUM_NEURONS_FC,\n",
    "                 leaky_slope=LEAKY_RELU_SLOPE,\n",
    "                 max_seq_len_for_pe=T_LENGTH\n",
    "                 ):\n",
    "        super(LSTMTransformerSVJD, self).__init__()\n",
    "        \n",
    "        self.lstm_output_dim = lstm_hidden_size * (2 if lstm_bidirectional else 1)\n",
    "\n",
    "        # LSTM Layer\n",
    "        self.lstm = nn.LSTM(\n",
    "            input_size=num_input_features,\n",
    "            hidden_size=lstm_hidden_size,\n",
    "            num_layers=lstm_num_layers,\n",
    "            bidirectional=lstm_bidirectional,\n",
    "            dropout=lstm_dropout if lstm_num_layers > 1 else 0, # Dropout only between layers\n",
    "            batch_first=True # Input: (batch, seq, feature)\n",
    "        )\n",
    "        \n",
    "        # Linear layer to project LSTM output to Transformer's d_model\n",
    "        self.lstm_to_transformer_projection = nn.Linear(self.lstm_output_dim, transformer_d_model)\n",
    "        \n",
    "        # Positional Encoding\n",
    "        self.pos_encoder = PositionalEncoding(transformer_d_model, pe_dropout, max_len=max_seq_len_for_pe)\n",
    "\n",
    "        # Transformer Encoder\n",
    "        encoder_layer = nn.TransformerEncoderLayer(\n",
    "            d_model=transformer_d_model, \n",
    "            nhead=transformer_nhead,\n",
    "            dim_feedforward=transformer_dim_feedforward,\n",
    "            dropout=transformer_dropout,\n",
    "            batch_first=True \n",
    "        )\n",
    "        self.transformer_encoder = nn.TransformerEncoder(encoder_layer, num_layers=transformer_num_encoder_layers)\n",
    "\n",
    "        # Final MLP\n",
    "        self.fc1_mlp = nn.Linear(transformer_d_model, mlp_fc_neurons)\n",
    "        self.relu_fc1_mlp = nn.LeakyReLU(leaky_slope)\n",
    "        self.ln_fc1_mlp = nn.LayerNorm(mlp_fc_neurons)\n",
    "        \n",
    "        self.fc2_mlp = nn.Linear(mlp_fc_neurons, mlp_fc_neurons // 2)\n",
    "        self.relu_fc2_mlp = nn.LeakyReLU(leaky_slope)\n",
    "        self.ln_fc2_mlp = nn.LayerNorm(mlp_fc_neurons // 2)\n",
    "\n",
    "        self.fc_out_mlp = nn.Linear(mlp_fc_neurons // 2, num_responses)\n",
    "\n",
    "    def forward(self, x):\n",
    "        # x shape: (batch_size, num_input_features, sequence_length)\n",
    "        # e.g., (batch_size, 1, 2000)\n",
    "        if x.ndim == 2: # (batch_size, sequence_length) -> assumes num_input_features=1\n",
    "            x = x.unsqueeze(1) # Add feature dimension\n",
    "\n",
    "        x = x.permute(0, 2, 1) # (batch_size, sequence_length, num_input_features) for LSTM\n",
    "        \n",
    "        # LSTM\n",
    "        lstm_out, (hidden, cell) = self.lstm(x)\n",
    "        # lstm_out shape: (batch_size, sequence_length, lstm_output_dim)\n",
    "        \n",
    "        # Project LSTM output to Transformer d_model\n",
    "        transformer_input = self.lstm_to_transformer_projection(lstm_out)\n",
    "        # transformer_input shape: (batch_size, sequence_length, transformer_d_model)\n",
    "        \n",
    "        transformer_input = self.pos_encoder(transformer_input)\n",
    "        \n",
    "        # Transformer Encoder\n",
    "        transformer_out = self.transformer_encoder(transformer_input)\n",
    "        # transformer_out shape: (batch_size, sequence_length, transformer_d_model)\n",
    "        \n",
    "        # Aggregate Transformer output - e.g., mean pooling over sequence dimension\n",
    "        aggregated_out = transformer_out.mean(dim=1) # (batch_size, transformer_d_model)\n",
    "        \n",
    "        # Final MLP\n",
    "        mlp_out = self.fc1_mlp(aggregated_out); mlp_out = self.relu_fc1_mlp(mlp_out); mlp_out = self.ln_fc1_mlp(mlp_out)\n",
    "        mlp_out = self.fc2_mlp(mlp_out); mlp_out = self.relu_fc2_mlp(mlp_out); mlp_out = self.ln_fc2_mlp(mlp_out)\n",
    "        final_out = self.fc_out_mlp(mlp_out)\n",
    "        \n",
    "        return final_out\n",
    "\n",
    "# --- 4. R-squared Calculation ---\n",
    "def calculate_r2_score(y_true, y_pred):\n",
    "    ss_res = torch.sum((y_true - y_pred)**2, dim=0)\n",
    "    ss_tot = torch.sum((y_true - torch.mean(y_true, dim=0))**2, dim=0)\n",
    "    return 1 - ss_res / (ss_tot + 1e-8) \n",
    "\n",
    "# --- 5. Training Loop ---\n",
    "def train_model(model, train_loader, val_loader, test_loader_norm, test_params_raw,\n",
    "                criterion, optimizer, num_epochs, patience, device,\n",
    "                param_output_means, param_output_stds, param_names_list):\n",
    "    print(f\"Starting training with model: {model.__class__.__name__}\")\n",
    "    best_val_loss = float('inf')\n",
    "    epochs_no_improve = 0\n",
    "    history = {'train_loss': [], 'val_loss': [], 'test_r2': {name: [] for name in param_names_list}}\n",
    "    model_save_path = f'best_svjd_{model.__class__.__name__.lower()}_model.pth'\n",
    "\n",
    "    for epoch in range(num_epochs):\n",
    "        start_time_epoch = time.time()\n",
    "        model.train()\n",
    "        running_train_loss = 0.0\n",
    "        \n",
    "        for inputs, targets in tqdm(train_loader, desc=f\"Epoch {epoch+1}/{num_epochs} [Train]\", leave=False):\n",
    "            inputs, targets = inputs.to(device), targets.to(device)\n",
    "            optimizer.zero_grad()\n",
    "            outputs = model(inputs)\n",
    "            loss = criterion(outputs, targets)\n",
    "            loss.backward()\n",
    "            optimizer.step()\n",
    "            running_train_loss += loss.item() * inputs.size(0)\n",
    "        epoch_train_loss = running_train_loss / len(train_loader.dataset)\n",
    "        history['train_loss'].append(epoch_train_loss)\n",
    "\n",
    "        model.eval()\n",
    "        running_val_loss = 0.0\n",
    "        if val_loader:\n",
    "            with torch.no_grad():\n",
    "                for inputs, targets in tqdm(val_loader, desc=f\"Epoch {epoch+1}/{num_epochs} [Val]\", leave=False):\n",
    "                    inputs, targets = inputs.to(device), targets.to(device)\n",
    "                    outputs = model(inputs)\n",
    "                    loss = criterion(outputs, targets)\n",
    "                    running_val_loss += loss.item() * inputs.size(0)\n",
    "            epoch_val_loss = running_val_loss / len(val_loader.dataset)\n",
    "            history['val_loss'].append(epoch_val_loss)\n",
    "        else:\n",
    "            epoch_val_loss = float('nan') \n",
    "            history['val_loss'].append(epoch_val_loss)\n",
    "        \n",
    "        all_test_preds_denorm = []\n",
    "        r2_scores_dict = {name: float('nan') for name in param_names_list} \n",
    "        if test_loader_norm and test_params_raw is not None:\n",
    "            with torch.no_grad():\n",
    "                for test_inputs_batch in tqdm(test_loader_norm, desc=f\"Epoch {epoch+1}/{num_epochs} [Test]\", leave=False):\n",
    "                    test_inputs_batch = test_inputs_batch[0].to(device) \n",
    "                    preds_norm = model(test_inputs_batch)\n",
    "                    preds_denorm = denormalize_outputs(preds_norm.cpu(), param_output_means, param_output_stds)\n",
    "                    all_test_preds_denorm.append(preds_denorm)\n",
    "            \n",
    "            if all_test_preds_denorm:\n",
    "                all_test_preds_denorm_tensor = torch.cat(all_test_preds_denorm, dim=0)\n",
    "                r2_scores_test = calculate_r2_score(test_params_raw.cpu(), all_test_preds_denorm_tensor)\n",
    "                r2_scores_dict = {name: r2_scores_test[i].item() for i, name in enumerate(param_names_list)}\n",
    "                for name, r2_val in r2_scores_dict.items():\n",
    "                    history['test_r2'][name].append(r2_val)\n",
    "\n",
    "        end_time_epoch = time.time()\n",
    "        epoch_duration = end_time_epoch - start_time_epoch\n",
    "        \n",
    "        print(f\"Epoch {epoch+1}/{num_epochs} - Train Loss: {epoch_train_loss:.6f}, Val Loss: {epoch_val_loss:.6f}, Duration: {epoch_duration:.2f}s\")\n",
    "        if test_loader_norm and all_test_preds_denorm: \n",
    "            r2_report_str = \", \".join([f\"R2({name}): {score:.4f}\" for name, score in r2_scores_dict.items()])\n",
    "            print(f\"Test R2 Scores: {r2_report_str}\")\n",
    "\n",
    "        if val_loader and epoch_val_loss < best_val_loss:\n",
    "            best_val_loss = epoch_val_loss\n",
    "            epochs_no_improve = 0\n",
    "            torch.save(model.state_dict(), model_save_path) \n",
    "        elif val_loader:\n",
    "            epochs_no_improve += 1\n",
    "\n",
    "        if val_loader and epochs_no_improve >= patience: \n",
    "            print(f\"Early stopping triggered after {patience} epochs without improvement on validation set.\")\n",
    "            break\n",
    "            \n",
    "    print(\"Training finished.\")\n",
    "    if val_loader and best_val_loss != float('inf'): \n",
    "        print(f\"Loading best model weights from {model_save_path} based on validation loss...\")\n",
    "        try:\n",
    "            model.load_state_dict(torch.load(model_save_path))\n",
    "        except FileNotFoundError:\n",
    "            print(f\"Warning: '{model_save_path}' not found. Using last model state.\")\n",
    "    elif not val_loader:\n",
    "        print(\"No validation loader provided, using last model state.\")\n",
    "    else: \n",
    "        print(\"Best validation loss was not updated, using last model state.\")\n",
    "        \n",
    "    return model, history\n",
    "\n",
    "# --- 6. Evaluation Function for Fixed Parameters ---\n",
    "def evaluate_model_on_fixed_params(trained_model, fixed_params_vector, N_eval_samples, t_length, \n",
    "                                   returns_norm_mean_stat, returns_norm_std_stat, \n",
    "                                   params_norm_means_stat, params_norm_stds_stat, \n",
    "                                   device, param_names_list):\n",
    "    print(f\"\\n--- Evaluating model {trained_model.__class__.__name__} on {N_eval_samples} samples with fixed parameters ---\")\n",
    "    if isinstance(fixed_params_vector, torch.Tensor):\n",
    "        fixed_params_vector = fixed_params_vector.cpu().numpy().tolist()\n",
    "    elif isinstance(fixed_params_vector, np.ndarray):\n",
    "        fixed_params_vector = fixed_params_vector.tolist()\n",
    "\n",
    "    eval_returns_raw, eval_params_true_raw = generate_svjd_data(\n",
    "        n_samples=N_eval_samples, t_length=t_length, fixed_params=fixed_params_vector\n",
    "    )\n",
    "    eval_returns_norm, _, _ = normalize_inputs(eval_returns_raw, \n",
    "                                               returns_norm_mean_stat, returns_norm_std_stat)\n",
    "    trained_model.eval()\n",
    "    all_predictions_denormalized = []\n",
    "    eval_dataset_norm_inputs_only = TensorDataset(eval_returns_norm)\n",
    "    eval_loader_norm = DataLoader(eval_dataset_norm_inputs_only, batch_size=BATCH_SIZE, shuffle=False)\n",
    "\n",
    "    with torch.no_grad():\n",
    "        for inputs_batch in tqdm(eval_loader_norm, desc=\"Predicting on fixed-param samples\"):\n",
    "            inputs_batch = inputs_batch[0].to(device)\n",
    "            predicted_params_norm = trained_model(inputs_batch)\n",
    "            predicted_params_denorm = denormalize_outputs(\n",
    "                predicted_params_norm.cpu(), params_norm_means_stat, params_norm_stds_stat\n",
    "            )\n",
    "            all_predictions_denormalized.append(predicted_params_denorm)\n",
    "    if not all_predictions_denormalized: return pd.DataFrame()\n",
    "    all_predictions_tensor = torch.cat(all_predictions_denormalized, dim=0)\n",
    "    df_data = {}\n",
    "    for i, name in enumerate(param_names_list):\n",
    "        df_data[f'{name}_true'] = eval_params_true_raw[:, i].cpu().numpy()\n",
    "        df_data[f'{name}_pred'] = all_predictions_tensor[:, i].cpu().numpy()\n",
    "    results_df = pd.DataFrame(df_data)\n",
    "    print(f\"--- Evaluation with fixed parameters complete. ---\")\n",
    "    return results_df\n",
    "\n",
    "# --- 7. Test Parameter Range Function ---\n",
    "def test_parameter_range(trained_model, param_to_test_name, param_min_val, param_max_val, num_steps,\n",
    "                         base_params_dict, N_series_per_step, t_length,\n",
    "                         returns_norm_mean_stat, returns_norm_std_stat,\n",
    "                         params_norm_means_stat, params_norm_stds_stat,\n",
    "                         device, all_param_names_list):\n",
    "    print(f\"\\n--- Testing {trained_model.__class__.__name__} for '{param_to_test_name}' from {param_min_val:.4f} to {param_max_val:.4f} ---\")\n",
    "    param_values_to_test = np.linspace(param_min_val, param_max_val, num_steps)\n",
    "    results_list = []\n",
    "    try:\n",
    "        param_idx_to_test = all_param_names_list.index(param_to_test_name)\n",
    "    except ValueError: return pd.DataFrame() \n",
    "    base_full_params_ordered = [base_params_dict.get(name, 0.0) for name in all_param_names_list]\n",
    "\n",
    "    for test_val in tqdm(param_values_to_test, desc=f\"Testing range for {param_to_test_name}\"):\n",
    "        current_full_params = list(base_full_params_ordered)\n",
    "        current_full_params[param_idx_to_test] = test_val\n",
    "        series_batch_raw, _ = generate_svjd_data(\n",
    "            n_samples=N_series_per_step, t_length=t_length, fixed_params=current_full_params\n",
    "        )\n",
    "        series_batch_norm, _, _ = normalize_inputs(series_batch_raw, returns_norm_mean_stat, returns_norm_std_stat)\n",
    "        trained_model.eval()\n",
    "        batch_predictions_denorm_list = []\n",
    "        temp_dataset = TensorDataset(series_batch_norm)\n",
    "        temp_loader = DataLoader(temp_dataset, batch_size=BATCH_SIZE, shuffle=False)\n",
    "        with torch.no_grad():\n",
    "            for inputs_batch_eval in temp_loader:\n",
    "                inputs_eval = inputs_batch_eval[0].to(device)\n",
    "                preds_norm_eval = trained_model(inputs_eval)\n",
    "                preds_denorm_eval = denormalize_outputs(preds_norm_eval.cpu(), params_norm_means_stat, params_norm_stds_stat)\n",
    "                batch_predictions_denorm_list.append(preds_denorm_eval)\n",
    "        if not batch_predictions_denorm_list: continue\n",
    "        batch_predictions_denorm = torch.cat(batch_predictions_denorm_list, dim=0)\n",
    "        avg_prediction_for_step = torch.mean(batch_predictions_denorm, dim=0).numpy()\n",
    "        row_data = {f'{param_to_test_name}_true': test_val}\n",
    "        for i, name in enumerate(all_param_names_list):\n",
    "            row_data[f'{name}_pred'] = avg_prediction_for_step[i]\n",
    "        results_list.append(row_data)\n",
    "    if not results_list: return pd.DataFrame()\n",
    "    results_df = pd.DataFrame(results_list)\n",
    "    print(f\"--- Parameter range testing for '{param_to_test_name}' complete. ---\")\n",
    "    return results_df\n",
    "\n",
    "# --- 8. Main Script Execution ---\n",
    "if __name__ == '__main__':\n",
    "    # Quick test settings\n",
    "    # actual_n_train_val = 1000 \n",
    "    # actual_n_test = 50       \n",
    "    # actual_max_epochs = 3 \n",
    "    # N_for_fixed_eval = 5\n",
    "    # num_sweep_steps = 5\n",
    "    # current_batch_size = BATCH_SIZE \n",
    "\n",
    "    # Full run settings\n",
    "    actual_n_train_val = N_SAMPLES_TOTAL\n",
    "    actual_n_test = N_TEST_SAMPLES\n",
    "    actual_max_epochs = MAX_EPOCHS\n",
    "    N_for_fixed_eval = 100 \n",
    "    num_sweep_steps = 10   \n",
    "    current_batch_size = BATCH_SIZE\n",
    "\n",
    "\n",
    "    print(f\"--- Generating Training/Validation Data ({actual_n_train_val} samples) ---\")\n",
    "    train_val_returns_raw, train_val_params_raw = generate_svjd_data(actual_n_train_val, T_LENGTH)\n",
    "    print(f\"\\n--- Generating Test Data ({actual_n_test} samples) ---\")\n",
    "    test_returns_raw, test_params_raw = generate_svjd_data(actual_n_test, T_LENGTH)\n",
    "\n",
    "    n_val_samples = int(actual_n_train_val * VAL_SPLIT_RATIO)\n",
    "    n_train_samples = actual_n_train_val - n_val_samples\n",
    "    train_val_dataset = TensorDataset(train_val_returns_raw, train_val_params_raw)\n",
    "    train_dataset_raw_split, val_dataset_raw_split = random_split(train_val_dataset, [n_train_samples, n_val_samples])\n",
    "    train_returns_for_norm_stats = torch.stack([train_dataset_raw_split[i][0] for i in range(len(train_dataset_raw_split))])\n",
    "    train_params_for_norm_stats = torch.stack([train_dataset_raw_split[i][1] for i in range(len(train_dataset_raw_split))])\n",
    "\n",
    "    print(\"\\n--- Normalizing Data (using training split statistics) ---\")\n",
    "    train_returns_norm, returns_mean_stat, returns_std_stat = normalize_inputs(train_returns_for_norm_stats)\n",
    "    train_params_norm, params_means_stat, params_stds_stat = normalize_outputs(train_params_for_norm_stats)\n",
    "    print(f\"Return series mean: {returns_mean_stat.item():.6f}, std: {returns_std_stat.item():.6f}\")\n",
    "    print(f\"Parameter means: {[f'{m:.4f}' for m in params_means_stat.tolist()]}\")\n",
    "    print(f\"Parameter stds: {[f'{s:.4f}' for s in params_stds_stat.tolist()]}\")\n",
    "\n",
    "    val_loader = None\n",
    "    if len(val_dataset_raw_split) > 0:\n",
    "        val_returns_list_raw = [val_dataset_raw_split[i][0] for i in range(len(val_dataset_raw_split))]\n",
    "        val_params_list_raw = [val_dataset_raw_split[i][1] for i in range(len(val_dataset_raw_split))]\n",
    "        val_returns_tensor_raw = torch.stack(val_returns_list_raw)\n",
    "        val_params_tensor_raw = torch.stack(val_params_list_raw)\n",
    "        val_returns_norm, _, _ = normalize_inputs(val_returns_tensor_raw, returns_mean_stat, returns_std_stat)\n",
    "        val_params_norm, _, _ = normalize_outputs(val_params_tensor_raw, params_means_stat, params_stds_stat)\n",
    "        val_dataset_norm = TensorDataset(val_returns_norm, val_params_norm)\n",
    "        val_loader = DataLoader(val_dataset_norm, batch_size=current_batch_size, shuffle=False)\n",
    "\n",
    "    test_returns_norm, _, _ = normalize_inputs(test_returns_raw, returns_mean_stat, returns_std_stat)\n",
    "    train_dataset_norm = TensorDataset(train_returns_norm, train_params_norm)\n",
    "    train_loader = DataLoader(train_dataset_norm, batch_size=current_batch_size, shuffle=True)\n",
    "    test_dataset_norm_inputs_only = TensorDataset(test_returns_norm) \n",
    "    test_loader_norm = DataLoader(test_dataset_norm_inputs_only, batch_size=current_batch_size, shuffle=False)\n",
    "    \n",
    "    print(f\"\\nTrain loader: {len(train_loader.dataset)} samples. Val loader: {len(val_loader.dataset) if val_loader else 0}. Test loader: {len(test_loader_norm.dataset)}.\")\n",
    "\n",
    "    # Instantiate the NEW LSTM-Transformer model\n",
    "    lstm_transformer_model = LSTMTransformerSVJD(\n",
    "        num_input_features=INPUT_FEATURE_DIM, \n",
    "        num_responses=NUM_RESPONSES,\n",
    "        max_seq_len_for_pe= T_LENGTH + 10 \n",
    "    ).to(DEVICE)\n",
    "    \n",
    "    criterion = nn.MSELoss() \n",
    "    optimizer = optim.Adam(lstm_transformer_model.parameters(), lr=LEARNING_RATE) \n",
    "\n",
    "    trained_model, history = train_model(lstm_transformer_model, train_loader, val_loader, test_loader_norm, test_params_raw,\n",
    "                                         criterion, optimizer, actual_max_epochs, EARLY_STOPPING_PATIENCE, DEVICE,\n",
    "                                         params_means_stat, params_stds_stat, PARAM_NAMES)\n",
    "    \n",
    "    print(f\"\\n--- Final R2 Scores on Test Set ({trained_model.__class__.__name__}) ---\")\n",
    "    all_test_preds_denorm_final = []\n",
    "    trained_model.eval() \n",
    "    with torch.no_grad():\n",
    "        for inputs_final_test_batch in tqdm(test_loader_norm, desc=\"Final Test Evaluation\", leave=False):\n",
    "            inputs_final_test = inputs_final_test_batch[0].to(DEVICE)\n",
    "            preds_norm_final = trained_model(inputs_final_test)\n",
    "            preds_denorm_final = denormalize_outputs(preds_norm_final.cpu(), params_means_stat, params_stds_stat)\n",
    "            all_test_preds_denorm_final.append(preds_denorm_final)\n",
    "    if all_test_preds_denorm_final:\n",
    "        all_test_preds_denorm_tensor_final = torch.cat(all_test_preds_denorm_final, dim=0)\n",
    "        final_r2_scores_test = calculate_r2_score(test_params_raw.cpu(), all_test_preds_denorm_tensor_final)\n",
    "        final_r2_scores_dict = {name: final_r2_scores_test[i].item() for i, name in enumerate(PARAM_NAMES)}\n",
    "        final_r2_report_str = \", \".join([f\"R2({name}): {score:.4f}\" for name, score in final_r2_scores_dict.items()])\n",
    "        print(final_r2_report_str)\n",
    "\n",
    "    example_fixed_params_list = [0.0001, 0.01, 0.05, 0.0002, 0.95, 0.2, 0.02]\n",
    "    if 'trained_model' in locals() and 'returns_mean_stat' in locals():\n",
    "        fixed_param_eval_df = evaluate_model_on_fixed_params(\n",
    "            trained_model=trained_model, fixed_params_vector=example_fixed_params_list,\n",
    "            N_eval_samples=N_for_fixed_eval, t_length=T_LENGTH,\n",
    "            returns_norm_mean_stat=returns_mean_stat, returns_norm_std_stat=returns_std_stat,\n",
    "            params_norm_means_stat=params_means_stat, params_norm_stds_stat=params_stds_stat,\n",
    "            device=DEVICE, param_names_list=PARAM_NAMES\n",
    "        )\n",
    "        print(f\"\\nDataFrame from fixed parameter evaluation ({trained_model.__class__.__name__}, first 5 rows):\")\n",
    "        print(fixed_param_eval_df.head())\n",
    "\n",
    "    base_params_for_range_test_dict = dict(zip(PARAM_NAMES, example_fixed_params_list))\n",
    "    param_to_sweep = \"gamma\" \n",
    "    param_range = GAMMA_RANGE\n",
    "    N_series_per_sweep_step = 1 \n",
    "\n",
    "    if 'trained_model' in locals() and 'returns_mean_stat' in locals():\n",
    "        range_test_df = test_parameter_range(\n",
    "            trained_model=trained_model, param_to_test_name=param_to_sweep,\n",
    "            param_min_val=param_range[0], param_max_val=param_range[1], num_steps=num_sweep_steps,\n",
    "            base_params_dict=base_params_for_range_test_dict, N_series_per_step=N_series_per_sweep_step,\n",
    "            t_length=T_LENGTH, returns_norm_mean_stat=returns_mean_stat, returns_norm_std_stat=returns_std_stat,\n",
    "            params_norm_means_stat=params_means_stat, params_norm_stds_stat=params_stds_stat,\n",
    "            device=DEVICE, all_param_names_list=PARAM_NAMES\n",
    "        )\n",
    "        print(f\"\\nDataFrame from '{param_to_sweep}' range test ({trained_model.__class__.__name__}, first 5 rows):\")\n",
    "        print(range_test_df.head())\n",
    "\n",
    "    print(\"\\nScript finished.\")"
   ]
  },
  {
   "cell_type": "code",
   "execution_count": 84,
   "metadata": {},
   "outputs": [
    {
     "name": "stdout",
     "output_type": "stream",
     "text": [
      "\n",
      "--- Testing LSTMTransformerSVJD for 'mju' from -0.0004 to 0.0004 ---\n"
     ]
    },
    {
     "name": "stderr",
     "output_type": "stream",
     "text": [
      "Testing range for mju: 100%|██████████| 1000/1000 [00:09<00:00, 108.99it/s]"
     ]
    },
    {
     "name": "stdout",
     "output_type": "stream",
     "text": [
      "--- Parameter range testing for 'mju' complete. ---\n",
      "   mju_true  mju_pred  mjuJ_pred  sigmaJ_pred  varLT_pred  beta_pred  \\\n",
      "0 -0.000400 -0.000184   0.030698     0.052928    0.000201   0.919871   \n",
      "1 -0.000399  0.000141   0.014573     0.058084    0.000200   0.938543   \n",
      "2 -0.000398 -0.000256   0.012322     0.069533    0.000167   0.941327   \n",
      "3 -0.000398 -0.000287   0.018034     0.050079    0.000185   0.916569   \n",
      "4 -0.000397 -0.000238   0.006128     0.054915    0.000191   0.964074   \n",
      "\n",
      "   gamma_pred  lambda_pred  \n",
      "0    0.191153     0.017710  \n",
      "1    0.203676     0.024679  \n",
      "2    0.206462     0.019621  \n",
      "3    0.236742     0.019946  \n",
      "4    0.197249     0.020528  \n"
     ]
    },
    {
     "name": "stderr",
     "output_type": "stream",
     "text": [
      "\n"
     ]
    }
   ],
   "source": [
    "param_to_sweep = \"mju\" # Example: sweep the 'beta' parameter\n",
    "beta_min, beta_max = MU_RANGE[0], MU_RANGE[1] # Use defined range for beta\n",
    "num_sweep_steps = 1000 # Number of points in the sweep (e.g., 1000 is too much for quick test)\n",
    "N_series_per_sweep_step = 1 # Number of series to generate for each beta value\n",
    "\n",
    "if 'trained_model' in locals() and \\\n",
    "    'returns_mean_stat' in locals() and 'params_means_stat' in locals() :\n",
    "    \n",
    "    range_test_df = test_parameter_range(\n",
    "        trained_model=trained_model,\n",
    "        param_to_test_name=param_to_sweep,\n",
    "        param_min_val=beta_min,\n",
    "        param_max_val=beta_max,\n",
    "        num_steps=num_sweep_steps,\n",
    "        base_params_dict=base_params_for_range_test_dict,\n",
    "        N_series_per_step=N_series_per_sweep_step,\n",
    "        t_length=T_LENGTH,\n",
    "        returns_norm_mean_stat=returns_mean_stat,\n",
    "        returns_norm_std_stat=returns_std_stat,\n",
    "        params_norm_means_stat=params_means_stat,\n",
    "        params_norm_stds_stat=params_stds_stat,\n",
    "        device=DEVICE,\n",
    "        all_param_names_list=PARAM_NAMES\n",
    "    )\n",
    "    print(range_test_df.head())\n",
    "    # range_test_df.to_csv(f\"{param_to_sweep}_range_test_results.csv\", index=False)\n",
    "    # print(f\"\\nSaved {param_to_sweep} range test results.\")\n",
    "else:\n",
    "    print(\"\\nSkipping parameter range testing as model/stats are not available.\")"
   ]
  },
  {
   "cell_type": "code",
   "execution_count": 86,
   "metadata": {},
   "outputs": [
    {
     "data": {
      "text/plain": [
       "<matplotlib.axes._subplots.AxesSubplot at 0x7f44531b0970>"
      ]
     },
     "execution_count": 86,
     "metadata": {},
     "output_type": "execute_result"
    },
    {
     "data": {
      "image/png": "[encoded data removed]",
      "text/plain": [
       "<Figure size 640x480 with 1 Axes>"
      ]
     },
     "metadata": {},
     "output_type": "display_data"
    }
   ],
   "source": [
    "range_test_df.plot.scatter(x='mju_true', y='mju_pred')"
   ]
  },
  {
   "cell_type": "code",
   "execution_count": 38,
   "metadata": {},
   "outputs": [
    {
     "data": {
      "text/plain": [
       "<matplotlib.axes._subplots.AxesSubplot at 0x7f4454de3190>"
      ]
     },
     "execution_count": 38,
     "metadata": {},
     "output_type": "execute_result"
    },
    {
     "data": {
      "image/png": "[encoded data removed]",
      "text/plain": [
       "<Figure size 640x480 with 1 Axes>"
      ]
     },
     "metadata": {},
     "output_type": "display_data"
    }
   ],
   "source": [
    "fixed_param_eval_df['mju_pred'].sub(fixed_param_eval_df['mju_true']).div(fixed_param_eval_df['mju_true']).plot.hist(bins=20)"
   ]
  },
  {
   "cell_type": "code",
   "execution_count": 18,
   "metadata": {},
   "outputs": [
    {
     "name": "stderr",
     "output_type": "stream",
     "text": [
      "2025-05-20 22:23:39,323 INFO Starting SVJD CNN training\n",
      "2025-05-20 22:23:39,323 INFO Starting SVJD CNN training\n",
      "2025-05-20 22:23:39,323 INFO Starting SVJD CNN training\n",
      "2025-05-20 22:23:39,323 INFO Starting SVJD CNN training\n",
      "2025-05-20 22:23:39,323 INFO Starting SVJD CNN training\n",
      "2025-05-20 22:23:39,324 INFO Simulating training returns...\n",
      "2025-05-20 22:23:39,324 INFO Simulating training returns...\n",
      "2025-05-20 22:23:39,324 INFO Simulating training returns...\n",
      "2025-05-20 22:23:39,324 INFO Simulating training returns...\n",
      "2025-05-20 22:23:39,324 INFO Simulating training returns...\n"
     ]
    },
    {
     "ename": "RuntimeError",
     "evalue": "Given normalized_shape=[20, 398], expected input with shape [*, 20, 398], but got input of size[50, 20, 399]",
     "output_type": "error",
     "traceback": [
      "\u001b[0;31m---------------------------------------------------------------------------\u001b[0m",
      "\u001b[0;31mRuntimeError\u001b[0m                              Traceback (most recent call last)",
      "Cell \u001b[0;32mIn[18], line 196\u001b[0m\n\u001b[1;32m    194\u001b[0m model \u001b[38;5;241m=\u001b[39m SVJD_CNN(T)\n\u001b[1;32m    195\u001b[0m device \u001b[38;5;241m=\u001b[39m \u001b[38;5;124m'\u001b[39m\u001b[38;5;124mcuda\u001b[39m\u001b[38;5;124m'\u001b[39m \u001b[38;5;28;01mif\u001b[39;00m torch\u001b[38;5;241m.\u001b[39mcuda\u001b[38;5;241m.\u001b[39mis_available() \u001b[38;5;28;01melse\u001b[39;00m \u001b[38;5;124m'\u001b[39m\u001b[38;5;124mcpu\u001b[39m\u001b[38;5;124m'\u001b[39m\n\u001b[0;32m--> 196\u001b[0m model \u001b[38;5;241m=\u001b[39m \u001b[43mtrain_model\u001b[49m\u001b[43m(\u001b[49m\u001b[43mmodel\u001b[49m\u001b[43m,\u001b[49m\u001b[43m \u001b[49m\u001b[43mtrain_loader\u001b[49m\u001b[43m,\u001b[49m\u001b[43m \u001b[49m\u001b[43mval_loader\u001b[49m\u001b[43m,\u001b[49m\u001b[43m \u001b[49m\u001b[43mdevice\u001b[49m\u001b[38;5;241;43m=\u001b[39;49m\u001b[43mdevice\u001b[49m\u001b[43m)\u001b[49m\n\u001b[1;32m    198\u001b[0m \u001b[38;5;66;03m# Evaluate on test set\u001b[39;00m\n\u001b[1;32m    199\u001b[0m logging\u001b[38;5;241m.\u001b[39minfo(\u001b[38;5;124m\"\u001b[39m\u001b[38;5;124mSimulating test returns and evaluating model...\u001b[39m\u001b[38;5;124m\"\u001b[39m)\n",
      "Cell \u001b[0;32mIn[18], line 129\u001b[0m, in \u001b[0;36mtrain_model\u001b[0;34m(model, train_loader, val_loader, max_epochs, patience, lr, device)\u001b[0m\n\u001b[1;32m    127\u001b[0m \u001b[38;5;28;01mfor\u001b[39;00m Xb, Yb \u001b[38;5;129;01min\u001b[39;00m train_loader:\n\u001b[1;32m    128\u001b[0m     Xb, Yb \u001b[38;5;241m=\u001b[39m Xb\u001b[38;5;241m.\u001b[39mto(device), Yb\u001b[38;5;241m.\u001b[39mto(device)\n\u001b[0;32m--> 129\u001b[0m     pred \u001b[38;5;241m=\u001b[39m \u001b[43mmodel\u001b[49m\u001b[43m(\u001b[49m\u001b[43mXb\u001b[49m\u001b[43m)\u001b[49m\n\u001b[1;32m    130\u001b[0m     loss \u001b[38;5;241m=\u001b[39m criterion(pred, Yb)\n\u001b[1;32m    131\u001b[0m     optimizer\u001b[38;5;241m.\u001b[39mzero_grad()\n",
      "File \u001b[0;32m~/sbt/svcj/.venv/lib/python3.8/site-packages/torch/nn/modules/module.py:1553\u001b[0m, in \u001b[0;36mModule._wrapped_call_impl\u001b[0;34m(self, *args, **kwargs)\u001b[0m\n\u001b[1;32m   1551\u001b[0m     \u001b[38;5;28;01mreturn\u001b[39;00m \u001b[38;5;28mself\u001b[39m\u001b[38;5;241m.\u001b[39m_compiled_call_impl(\u001b[38;5;241m*\u001b[39margs, \u001b[38;5;241m*\u001b[39m\u001b[38;5;241m*\u001b[39mkwargs)  \u001b[38;5;66;03m# type: ignore[misc]\u001b[39;00m\n\u001b[1;32m   1552\u001b[0m \u001b[38;5;28;01melse\u001b[39;00m:\n\u001b[0;32m-> 1553\u001b[0m     \u001b[38;5;28;01mreturn\u001b[39;00m \u001b[38;5;28;43mself\u001b[39;49m\u001b[38;5;241;43m.\u001b[39;49m\u001b[43m_call_impl\u001b[49m\u001b[43m(\u001b[49m\u001b[38;5;241;43m*\u001b[39;49m\u001b[43margs\u001b[49m\u001b[43m,\u001b[49m\u001b[43m \u001b[49m\u001b[38;5;241;43m*\u001b[39;49m\u001b[38;5;241;43m*\u001b[39;49m\u001b[43mkwargs\u001b[49m\u001b[43m)\u001b[49m\n",
      "File \u001b[0;32m~/sbt/svcj/.venv/lib/python3.8/site-packages/torch/nn/modules/module.py:1562\u001b[0m, in \u001b[0;36mModule._call_impl\u001b[0;34m(self, *args, **kwargs)\u001b[0m\n\u001b[1;32m   1557\u001b[0m \u001b[38;5;66;03m# If we don't have any hooks, we want to skip the rest of the logic in\u001b[39;00m\n\u001b[1;32m   1558\u001b[0m \u001b[38;5;66;03m# this function, and just call forward.\u001b[39;00m\n\u001b[1;32m   1559\u001b[0m \u001b[38;5;28;01mif\u001b[39;00m \u001b[38;5;129;01mnot\u001b[39;00m (\u001b[38;5;28mself\u001b[39m\u001b[38;5;241m.\u001b[39m_backward_hooks \u001b[38;5;129;01mor\u001b[39;00m \u001b[38;5;28mself\u001b[39m\u001b[38;5;241m.\u001b[39m_backward_pre_hooks \u001b[38;5;129;01mor\u001b[39;00m \u001b[38;5;28mself\u001b[39m\u001b[38;5;241m.\u001b[39m_forward_hooks \u001b[38;5;129;01mor\u001b[39;00m \u001b[38;5;28mself\u001b[39m\u001b[38;5;241m.\u001b[39m_forward_pre_hooks\n\u001b[1;32m   1560\u001b[0m         \u001b[38;5;129;01mor\u001b[39;00m _global_backward_pre_hooks \u001b[38;5;129;01mor\u001b[39;00m _global_backward_hooks\n\u001b[1;32m   1561\u001b[0m         \u001b[38;5;129;01mor\u001b[39;00m _global_forward_hooks \u001b[38;5;129;01mor\u001b[39;00m _global_forward_pre_hooks):\n\u001b[0;32m-> 1562\u001b[0m     \u001b[38;5;28;01mreturn\u001b[39;00m \u001b[43mforward_call\u001b[49m\u001b[43m(\u001b[49m\u001b[38;5;241;43m*\u001b[39;49m\u001b[43margs\u001b[49m\u001b[43m,\u001b[49m\u001b[43m \u001b[49m\u001b[38;5;241;43m*\u001b[39;49m\u001b[38;5;241;43m*\u001b[39;49m\u001b[43mkwargs\u001b[49m\u001b[43m)\u001b[49m\n\u001b[1;32m   1564\u001b[0m \u001b[38;5;28;01mtry\u001b[39;00m:\n\u001b[1;32m   1565\u001b[0m     result \u001b[38;5;241m=\u001b[39m \u001b[38;5;28;01mNone\u001b[39;00m\n",
      "Cell \u001b[0;32mIn[18], line 112\u001b[0m, in \u001b[0;36mSVJD_CNN.forward\u001b[0;34m(self, x)\u001b[0m\n\u001b[1;32m    110\u001b[0m x \u001b[38;5;241m=\u001b[39m \u001b[38;5;28mself\u001b[39m\u001b[38;5;241m.\u001b[39mconv1(x)\n\u001b[1;32m    111\u001b[0m x \u001b[38;5;241m=\u001b[39m \u001b[38;5;28mself\u001b[39m\u001b[38;5;241m.\u001b[39mconv2(x)\n\u001b[0;32m--> 112\u001b[0m x \u001b[38;5;241m=\u001b[39m \u001b[38;5;28;43mself\u001b[39;49m\u001b[38;5;241;43m.\u001b[39;49m\u001b[43mconv3\u001b[49m\u001b[43m(\u001b[49m\u001b[43mx\u001b[49m\u001b[43m)\u001b[49m\n\u001b[1;32m    113\u001b[0m x \u001b[38;5;241m=\u001b[39m \u001b[38;5;28mself\u001b[39m\u001b[38;5;241m.\u001b[39mglobal_pool(x)\n\u001b[1;32m    114\u001b[0m \u001b[38;5;28;01mreturn\u001b[39;00m \u001b[38;5;28mself\u001b[39m\u001b[38;5;241m.\u001b[39mfc(x)\n",
      "File \u001b[0;32m~/sbt/svcj/.venv/lib/python3.8/site-packages/torch/nn/modules/module.py:1553\u001b[0m, in \u001b[0;36mModule._wrapped_call_impl\u001b[0;34m(self, *args, **kwargs)\u001b[0m\n\u001b[1;32m   1551\u001b[0m     \u001b[38;5;28;01mreturn\u001b[39;00m \u001b[38;5;28mself\u001b[39m\u001b[38;5;241m.\u001b[39m_compiled_call_impl(\u001b[38;5;241m*\u001b[39margs, \u001b[38;5;241m*\u001b[39m\u001b[38;5;241m*\u001b[39mkwargs)  \u001b[38;5;66;03m# type: ignore[misc]\u001b[39;00m\n\u001b[1;32m   1552\u001b[0m \u001b[38;5;28;01melse\u001b[39;00m:\n\u001b[0;32m-> 1553\u001b[0m     \u001b[38;5;28;01mreturn\u001b[39;00m \u001b[38;5;28;43mself\u001b[39;49m\u001b[38;5;241;43m.\u001b[39;49m\u001b[43m_call_impl\u001b[49m\u001b[43m(\u001b[49m\u001b[38;5;241;43m*\u001b[39;49m\u001b[43margs\u001b[49m\u001b[43m,\u001b[49m\u001b[43m \u001b[49m\u001b[38;5;241;43m*\u001b[39;49m\u001b[38;5;241;43m*\u001b[39;49m\u001b[43mkwargs\u001b[49m\u001b[43m)\u001b[49m\n",
      "File \u001b[0;32m~/sbt/svcj/.venv/lib/python3.8/site-packages/torch/nn/modules/module.py:1562\u001b[0m, in \u001b[0;36mModule._call_impl\u001b[0;34m(self, *args, **kwargs)\u001b[0m\n\u001b[1;32m   1557\u001b[0m \u001b[38;5;66;03m# If we don't have any hooks, we want to skip the rest of the logic in\u001b[39;00m\n\u001b[1;32m   1558\u001b[0m \u001b[38;5;66;03m# this function, and just call forward.\u001b[39;00m\n\u001b[1;32m   1559\u001b[0m \u001b[38;5;28;01mif\u001b[39;00m \u001b[38;5;129;01mnot\u001b[39;00m (\u001b[38;5;28mself\u001b[39m\u001b[38;5;241m.\u001b[39m_backward_hooks \u001b[38;5;129;01mor\u001b[39;00m \u001b[38;5;28mself\u001b[39m\u001b[38;5;241m.\u001b[39m_backward_pre_hooks \u001b[38;5;129;01mor\u001b[39;00m \u001b[38;5;28mself\u001b[39m\u001b[38;5;241m.\u001b[39m_forward_hooks \u001b[38;5;129;01mor\u001b[39;00m \u001b[38;5;28mself\u001b[39m\u001b[38;5;241m.\u001b[39m_forward_pre_hooks\n\u001b[1;32m   1560\u001b[0m         \u001b[38;5;129;01mor\u001b[39;00m _global_backward_pre_hooks \u001b[38;5;129;01mor\u001b[39;00m _global_backward_hooks\n\u001b[1;32m   1561\u001b[0m         \u001b[38;5;129;01mor\u001b[39;00m _global_forward_hooks \u001b[38;5;129;01mor\u001b[39;00m _global_forward_pre_hooks):\n\u001b[0;32m-> 1562\u001b[0m     \u001b[38;5;28;01mreturn\u001b[39;00m \u001b[43mforward_call\u001b[49m\u001b[43m(\u001b[49m\u001b[38;5;241;43m*\u001b[39;49m\u001b[43margs\u001b[49m\u001b[43m,\u001b[49m\u001b[43m \u001b[49m\u001b[38;5;241;43m*\u001b[39;49m\u001b[38;5;241;43m*\u001b[39;49m\u001b[43mkwargs\u001b[49m\u001b[43m)\u001b[49m\n\u001b[1;32m   1564\u001b[0m \u001b[38;5;28;01mtry\u001b[39;00m:\n\u001b[1;32m   1565\u001b[0m     result \u001b[38;5;241m=\u001b[39m \u001b[38;5;28;01mNone\u001b[39;00m\n",
      "File \u001b[0;32m~/sbt/svcj/.venv/lib/python3.8/site-packages/torch/nn/modules/container.py:219\u001b[0m, in \u001b[0;36mSequential.forward\u001b[0;34m(self, input)\u001b[0m\n\u001b[1;32m    217\u001b[0m \u001b[38;5;28;01mdef\u001b[39;00m\u001b[38;5;250m \u001b[39m\u001b[38;5;21mforward\u001b[39m(\u001b[38;5;28mself\u001b[39m, \u001b[38;5;28minput\u001b[39m):\n\u001b[1;32m    218\u001b[0m     \u001b[38;5;28;01mfor\u001b[39;00m module \u001b[38;5;129;01min\u001b[39;00m \u001b[38;5;28mself\u001b[39m:\n\u001b[0;32m--> 219\u001b[0m         \u001b[38;5;28minput\u001b[39m \u001b[38;5;241m=\u001b[39m \u001b[43mmodule\u001b[49m\u001b[43m(\u001b[49m\u001b[38;5;28;43minput\u001b[39;49m\u001b[43m)\u001b[49m\n\u001b[1;32m    220\u001b[0m     \u001b[38;5;28;01mreturn\u001b[39;00m \u001b[38;5;28minput\u001b[39m\n",
      "File \u001b[0;32m~/sbt/svcj/.venv/lib/python3.8/site-packages/torch/nn/modules/module.py:1553\u001b[0m, in \u001b[0;36mModule._wrapped_call_impl\u001b[0;34m(self, *args, **kwargs)\u001b[0m\n\u001b[1;32m   1551\u001b[0m     \u001b[38;5;28;01mreturn\u001b[39;00m \u001b[38;5;28mself\u001b[39m\u001b[38;5;241m.\u001b[39m_compiled_call_impl(\u001b[38;5;241m*\u001b[39margs, \u001b[38;5;241m*\u001b[39m\u001b[38;5;241m*\u001b[39mkwargs)  \u001b[38;5;66;03m# type: ignore[misc]\u001b[39;00m\n\u001b[1;32m   1552\u001b[0m \u001b[38;5;28;01melse\u001b[39;00m:\n\u001b[0;32m-> 1553\u001b[0m     \u001b[38;5;28;01mreturn\u001b[39;00m \u001b[38;5;28;43mself\u001b[39;49m\u001b[38;5;241;43m.\u001b[39;49m\u001b[43m_call_impl\u001b[49m\u001b[43m(\u001b[49m\u001b[38;5;241;43m*\u001b[39;49m\u001b[43margs\u001b[49m\u001b[43m,\u001b[49m\u001b[43m \u001b[49m\u001b[38;5;241;43m*\u001b[39;49m\u001b[38;5;241;43m*\u001b[39;49m\u001b[43mkwargs\u001b[49m\u001b[43m)\u001b[49m\n",
      "File \u001b[0;32m~/sbt/svcj/.venv/lib/python3.8/site-packages/torch/nn/modules/module.py:1562\u001b[0m, in \u001b[0;36mModule._call_impl\u001b[0;34m(self, *args, **kwargs)\u001b[0m\n\u001b[1;32m   1557\u001b[0m \u001b[38;5;66;03m# If we don't have any hooks, we want to skip the rest of the logic in\u001b[39;00m\n\u001b[1;32m   1558\u001b[0m \u001b[38;5;66;03m# this function, and just call forward.\u001b[39;00m\n\u001b[1;32m   1559\u001b[0m \u001b[38;5;28;01mif\u001b[39;00m \u001b[38;5;129;01mnot\u001b[39;00m (\u001b[38;5;28mself\u001b[39m\u001b[38;5;241m.\u001b[39m_backward_hooks \u001b[38;5;129;01mor\u001b[39;00m \u001b[38;5;28mself\u001b[39m\u001b[38;5;241m.\u001b[39m_backward_pre_hooks \u001b[38;5;129;01mor\u001b[39;00m \u001b[38;5;28mself\u001b[39m\u001b[38;5;241m.\u001b[39m_forward_hooks \u001b[38;5;129;01mor\u001b[39;00m \u001b[38;5;28mself\u001b[39m\u001b[38;5;241m.\u001b[39m_forward_pre_hooks\n\u001b[1;32m   1560\u001b[0m         \u001b[38;5;129;01mor\u001b[39;00m _global_backward_pre_hooks \u001b[38;5;129;01mor\u001b[39;00m _global_backward_hooks\n\u001b[1;32m   1561\u001b[0m         \u001b[38;5;129;01mor\u001b[39;00m _global_forward_hooks \u001b[38;5;129;01mor\u001b[39;00m _global_forward_pre_hooks):\n\u001b[0;32m-> 1562\u001b[0m     \u001b[38;5;28;01mreturn\u001b[39;00m \u001b[43mforward_call\u001b[49m\u001b[43m(\u001b[49m\u001b[38;5;241;43m*\u001b[39;49m\u001b[43margs\u001b[49m\u001b[43m,\u001b[49m\u001b[43m \u001b[49m\u001b[38;5;241;43m*\u001b[39;49m\u001b[38;5;241;43m*\u001b[39;49m\u001b[43mkwargs\u001b[49m\u001b[43m)\u001b[49m\n\u001b[1;32m   1564\u001b[0m \u001b[38;5;28;01mtry\u001b[39;00m:\n\u001b[1;32m   1565\u001b[0m     result \u001b[38;5;241m=\u001b[39m \u001b[38;5;28;01mNone\u001b[39;00m\n",
      "File \u001b[0;32m~/sbt/svcj/.venv/lib/python3.8/site-packages/torch/nn/modules/normalization.py:202\u001b[0m, in \u001b[0;36mLayerNorm.forward\u001b[0;34m(self, input)\u001b[0m\n\u001b[1;32m    201\u001b[0m \u001b[38;5;28;01mdef\u001b[39;00m\u001b[38;5;250m \u001b[39m\u001b[38;5;21mforward\u001b[39m(\u001b[38;5;28mself\u001b[39m, \u001b[38;5;28minput\u001b[39m: Tensor) \u001b[38;5;241m-\u001b[39m\u001b[38;5;241m>\u001b[39m Tensor:\n\u001b[0;32m--> 202\u001b[0m     \u001b[38;5;28;01mreturn\u001b[39;00m \u001b[43mF\u001b[49m\u001b[38;5;241;43m.\u001b[39;49m\u001b[43mlayer_norm\u001b[49m\u001b[43m(\u001b[49m\n\u001b[1;32m    203\u001b[0m \u001b[43m        \u001b[49m\u001b[38;5;28;43minput\u001b[39;49m\u001b[43m,\u001b[49m\u001b[43m \u001b[49m\u001b[38;5;28;43mself\u001b[39;49m\u001b[38;5;241;43m.\u001b[39;49m\u001b[43mnormalized_shape\u001b[49m\u001b[43m,\u001b[49m\u001b[43m \u001b[49m\u001b[38;5;28;43mself\u001b[39;49m\u001b[38;5;241;43m.\u001b[39;49m\u001b[43mweight\u001b[49m\u001b[43m,\u001b[49m\u001b[43m \u001b[49m\u001b[38;5;28;43mself\u001b[39;49m\u001b[38;5;241;43m.\u001b[39;49m\u001b[43mbias\u001b[49m\u001b[43m,\u001b[49m\u001b[43m \u001b[49m\u001b[38;5;28;43mself\u001b[39;49m\u001b[38;5;241;43m.\u001b[39;49m\u001b[43meps\u001b[49m\u001b[43m)\u001b[49m\n",
      "File \u001b[0;32m~/sbt/svcj/.venv/lib/python3.8/site-packages/torch/nn/functional.py:2576\u001b[0m, in \u001b[0;36mlayer_norm\u001b[0;34m(input, normalized_shape, weight, bias, eps)\u001b[0m\n\u001b[1;32m   2572\u001b[0m \u001b[38;5;28;01mif\u001b[39;00m has_torch_function_variadic(\u001b[38;5;28minput\u001b[39m, weight, bias):\n\u001b[1;32m   2573\u001b[0m     \u001b[38;5;28;01mreturn\u001b[39;00m handle_torch_function(\n\u001b[1;32m   2574\u001b[0m         layer_norm, (\u001b[38;5;28minput\u001b[39m, weight, bias), \u001b[38;5;28minput\u001b[39m, normalized_shape, weight\u001b[38;5;241m=\u001b[39mweight, bias\u001b[38;5;241m=\u001b[39mbias, eps\u001b[38;5;241m=\u001b[39meps\n\u001b[1;32m   2575\u001b[0m     )\n\u001b[0;32m-> 2576\u001b[0m \u001b[38;5;28;01mreturn\u001b[39;00m \u001b[43mtorch\u001b[49m\u001b[38;5;241;43m.\u001b[39;49m\u001b[43mlayer_norm\u001b[49m\u001b[43m(\u001b[49m\u001b[38;5;28;43minput\u001b[39;49m\u001b[43m,\u001b[49m\u001b[43m \u001b[49m\u001b[43mnormalized_shape\u001b[49m\u001b[43m,\u001b[49m\u001b[43m \u001b[49m\u001b[43mweight\u001b[49m\u001b[43m,\u001b[49m\u001b[43m \u001b[49m\u001b[43mbias\u001b[49m\u001b[43m,\u001b[49m\u001b[43m \u001b[49m\u001b[43meps\u001b[49m\u001b[43m,\u001b[49m\u001b[43m \u001b[49m\u001b[43mtorch\u001b[49m\u001b[38;5;241;43m.\u001b[39;49m\u001b[43mbackends\u001b[49m\u001b[38;5;241;43m.\u001b[39;49m\u001b[43mcudnn\u001b[49m\u001b[38;5;241;43m.\u001b[39;49m\u001b[43menabled\u001b[49m\u001b[43m)\u001b[49m\n",
      "\u001b[0;31mRuntimeError\u001b[0m: Given normalized_shape=[20, 398], expected input with shape [*, 20, 398], but got input of size[50, 20, 399]"
     ]
    }
   ],
   "source": [
    "import numpy as np\n",
    "import torch\n",
    "import torch.nn as nn\n",
    "from torch.utils.data import Dataset, DataLoader, random_split\n",
    "from sklearn.metrics import r2_score\n",
    "import logging\n",
    "\n",
    "# Configure logging: write to file and console\n",
    "logging.basicConfig(level=logging.INFO,\n",
    "                    format='%(asctime)s %(levelname)s %(message)s',\n",
    "                    filename='training.log',\n",
    "                    filemode='w')\n",
    "console = logging.StreamHandler()\n",
    "console.setLevel(logging.INFO)\n",
    "formatter = logging.Formatter('%(asctime)s %(levelname)s %(message)s')\n",
    "console.setFormatter(formatter)\n",
    "logging.getLogger('').addHandler(console)\n",
    "\n",
    "# 1) SVJD simulation ----------------------------------------------------------\n",
    "def simulate_svjd(mu, v_lt, beta, gamma, mu_j, sigma_j, lam, T, seed=None):\n",
    "    \"\"\"\n",
    "    Simulate T returns from the SVJD model:\n",
    "      h_t = alpha + beta * h_{t-1} + gamma * eps_h\n",
    "      r_t = mu + exp(h_t/2) * eps_r + Z_t * J_t\n",
    "    where\n",
    "      alpha = ln(v_lt) * (1 - beta)\n",
    "      eps_r, eps_h ~ N(0,1)\n",
    "      Z_t ~ Bernoulli(lam)\n",
    "      J_t ~ N(mu_j, sigma_j)\n",
    "    \"\"\"\n",
    "    if seed is not None:\n",
    "        np.random.seed(seed)\n",
    "    alpha = np.log(v_lt) * (1 - beta)\n",
    "    h = np.empty(T, dtype=np.float32)\n",
    "    r = np.empty(T, dtype=np.float32)\n",
    "    h[0] = alpha / (1 - beta)\n",
    "    eps_h = np.random.randn(T).astype(np.float32)\n",
    "    eps_r = np.random.randn(T).astype(np.float32)\n",
    "    jumps = np.random.binomial(1, lam, size=T)\n",
    "    J = mu_j + sigma_j * np.random.randn(T).astype(np.float32)\n",
    "    for t in range(1, T):\n",
    "        h[t] = alpha + beta * h[t-1] + gamma * eps_h[t]\n",
    "    sigma = np.exp(h / 2)\n",
    "    r = mu + sigma * eps_r + jumps * J\n",
    "    return r\n",
    "\n",
    "# 2) Dataset and normalization ------------------------------------------------\n",
    "class SVJDDataset(Dataset):\n",
    "    def __init__(self, returns, thetas, x_mean, x_std, y_mean, y_std):\n",
    "        self.X = (returns - x_mean) / x_std\n",
    "        self.Y = (thetas - y_mean) / y_std\n",
    "        self.X = torch.from_numpy(self.X).unsqueeze(1).float()\n",
    "        self.Y = torch.from_numpy(self.Y).float()\n",
    "\n",
    "    def __len__(self):\n",
    "        return len(self.X)\n",
    "\n",
    "    def __getitem__(self, idx):\n",
    "        return self.X[idx], self.Y[idx]\n",
    "\n",
    "# 3) Causal conv + CNN model --------------------------------------------------\n",
    "class CausalConv1d(nn.Module):\n",
    "    def __init__(self, in_channels, out_channels, kernel_size):\n",
    "        super().__init__()\n",
    "        self.pad = nn.ConstantPad1d((kernel_size-1, 0), 0.0)\n",
    "        self.conv = nn.Conv1d(in_channels, out_channels, kernel_size)\n",
    "\n",
    "    def forward(self, x):\n",
    "        return self.conv(self.pad(x))\n",
    "\n",
    "class SVJD_CNN(nn.Module):\n",
    "    def __init__(self, T, num_responses=7, num_filters=20, num_neurons=20, kernel_size=5, pool_size=5):\n",
    "        super().__init__()\n",
    "        # Conv block 1\n",
    "        self.conv1 = nn.Sequential(\n",
    "            CausalConv1d(1, num_filters, kernel_size),\n",
    "            nn.LeakyReLU(),\n",
    "            nn.LayerNorm([num_filters, T]),\n",
    "            nn.AvgPool1d(kernel_size=pool_size, stride=1)\n",
    "        )\n",
    "        L1 = T - (pool_size - 1)\n",
    "        # Conv block 2\n",
    "        self.conv2 = nn.Sequential(\n",
    "            CausalConv1d(num_filters, num_filters, kernel_size),\n",
    "            nn.LeakyReLU(),\n",
    "            nn.LayerNorm([num_filters, L1]),\n",
    "            nn.AvgPool1d(kernel_size=pool_size, stride=pool_size)\n",
    "        )\n",
    "        L2 = (L1 - (pool_size - 1)) // pool_size\n",
    "        # Conv block 3\n",
    "        self.conv3 = nn.Sequential(\n",
    "            CausalConv1d(num_filters, num_filters, kernel_size),\n",
    "            nn.LeakyReLU(),\n",
    "            nn.LayerNorm([num_filters, L2])\n",
    "        )\n",
    "        self.global_pool = nn.AdaptiveAvgPool1d(1)\n",
    "        # Fully connected\n",
    "        self.fc = nn.Sequential(\n",
    "            nn.Flatten(),\n",
    "            nn.Linear(num_filters, num_neurons),\n",
    "            nn.LeakyReLU(),\n",
    "            nn.LayerNorm(num_neurons),\n",
    "            nn.Linear(num_neurons, num_neurons),\n",
    "            nn.LeakyReLU(),\n",
    "            nn.LayerNorm(num_neurons),\n",
    "            nn.Linear(num_neurons, num_responses)\n",
    "        )\n",
    "\n",
    "    def forward(self, x):\n",
    "        x = self.conv1(x)\n",
    "        x = self.conv2(x)\n",
    "        x = self.conv3(x)\n",
    "        x = self.global_pool(x)\n",
    "        return self.fc(x)\n",
    "\n",
    "# 4) Training with early stopping ------------------------------------------------\n",
    "def train_model(model, train_loader, val_loader, max_epochs=100, patience=50, lr=1e-3, device='cpu'):\n",
    "    optimizer = torch.optim.Adam(model.parameters(), lr=lr)\n",
    "    criterion = nn.MSELoss()\n",
    "    best_val = np.inf\n",
    "    epochs_no_improve = 0\n",
    "    model.to(device)\n",
    "\n",
    "    for epoch in range(1, max_epochs+1):\n",
    "        model.train()\n",
    "        train_loss_accum = 0.0\n",
    "        for Xb, Yb in train_loader:\n",
    "            Xb, Yb = Xb.to(device), Yb.to(device)\n",
    "            pred = model(Xb)\n",
    "            loss = criterion(pred, Yb)\n",
    "            optimizer.zero_grad()\n",
    "            loss.backward()\n",
    "            optimizer.step()\n",
    "            train_loss_accum += loss.item() * Xb.size(0)\n",
    "        train_loss = train_loss_accum / len(train_loader.dataset)\n",
    "\n",
    "        model.eval()\n",
    "        val_loss_accum = 0.0\n",
    "        with torch.no_grad():\n",
    "            for Xv, Yv in val_loader:\n",
    "                Xv, Yv = Xv.to(device), Yv.to(device)\n",
    "                val_loss_accum += criterion(model(Xv), Yv).item() * Xv.size(0)\n",
    "        val_loss = val_loss_accum / len(val_loader.dataset)\n",
    "\n",
    "        logging.info(f\"Epoch {epoch}: Train Loss = {train_loss:.6f}, Val Loss = {val_loss:.6f}\")\n",
    "\n",
    "        if val_loss < best_val:\n",
    "            best_val = val_loss\n",
    "            torch.save(model.state_dict(), 'best_model.pth')\n",
    "            epochs_no_improve = 0\n",
    "            logging.info(f\"New best model saved at epoch {epoch} (Val Loss = {val_loss:.6f})\")\n",
    "        else:\n",
    "            epochs_no_improve += 1\n",
    "            if epochs_no_improve >= patience:\n",
    "                logging.info(f\"Early stopping triggered at epoch {epoch}\")\n",
    "                break\n",
    "\n",
    "    logging.info(f\"Training complete. Best validation loss = {best_val:.6f}\")\n",
    "    model.load_state_dict(torch.load('best_model.pth'))\n",
    "    return model\n",
    "\n",
    "# 5) Main execution -------------------------------------------------------------\n",
    "if __name__ == \"__main__\":\n",
    "    logging.info(\"Starting SVJD CNN training\")\n",
    "    N_train, N_test = 500, 500\n",
    "    T = 2000\n",
    "\n",
    "    # Draw training parameters\n",
    "    mus    = np.random.uniform(-0.1, 0.1, N_train).astype(np.float32) / 250\n",
    "    v_lts  = np.random.uniform(0.005, 0.015, N_train).astype(np.float32)**2\n",
    "    betas  = np.random.uniform(0.79, 0.99, N_train).astype(np.float32)\n",
    "    gammas = np.random.uniform(0.05, 0.50, N_train).astype(np.float32)\n",
    "    muj    = np.random.uniform(-0.05, 0.05, N_train).astype(np.float32)\n",
    "    sigmaj = np.random.uniform(0.01, 0.10, N_train).astype(np.float32)\n",
    "    lamb   = np.random.uniform(0.005, 0.05, N_train).astype(np.float32)\n",
    "\n",
    "    logging.info(\"Simulating training returns...\")\n",
    "    R_train = np.vstack([\n",
    "        simulate_svjd(mu, vlt, b, g, mj, sj, lm, T)\n",
    "        for mu, vlt, b, g, mj, sj, lm in zip(mus, v_lts, betas, gammas, muj, sigmaj, lamb)\n",
    "    ])\n",
    "    Y_train = np.column_stack([mus, muj, sigmaj, v_lts, betas, gammas, lamb])\n",
    "\n",
    "    # Normalization\n",
    "    x_mean, x_std = R_train.mean(), R_train.std()\n",
    "    y_mean, y_std = Y_train.mean(0), Y_train.std(0)\n",
    "\n",
    "    dataset = SVJDDataset(R_train, Y_train, x_mean, x_std, y_mean, y_std)\n",
    "    n_val = int(0.2 * len(dataset))\n",
    "    train_ds, val_ds = random_split(dataset, [len(dataset)-n_val, n_val])\n",
    "    train_loader = DataLoader(train_ds, batch_size=50, shuffle=True)\n",
    "    val_loader   = DataLoader(val_ds, batch_size=50)\n",
    "\n",
    "    model = SVJD_CNN(T)\n",
    "    device = 'cuda' if torch.cuda.is_available() else 'cpu'\n",
    "    model = train_model(model, train_loader, val_loader, device=device)\n",
    "\n",
    "    # Evaluate on test set\n",
    "    logging.info(\"Simulating test returns and evaluating model...\")\n",
    "    mus_t    = np.random.uniform(-0.1, 0.1, N_test).astype(np.float32) / 250\n",
    "    v_lts_t  = np.random.uniform(0.005, 0.015, N_test).astype(np.float32)**2\n",
    "    betas_t  = np.random.uniform(0.79, 0.99, N_test).astype(np.float32)\n",
    "    gammas_t = np.random.uniform(0.05, 0.50, N_test).astype(np.float32)\n",
    "    muj_t    = np.random.uniform(-0.05, 0.05, N_test).astype(np.float32)\n",
    "    sigmaj_t = np.random.uniform(0.01, 0.10, N_test).astype(np.float32)\n",
    "    lamb_t   = np.random.uniform(0.005, 0.05, N_test).astype(np.float32)\n",
    "\n",
    "    R_test = np.vstack([\n",
    "        simulate_svjd(mu, vlt, b, g, mj, sj, lm, T)\n",
    "        for mu, vlt, b, g, mj, sj, lm in zip(mus_t, v_lts_t, betas_t, gammas_t, muj_t, sigmaj_t, lamb_t)\n",
    "    ])\n",
    "    Y_test = np.column_stack([mus_t, muj_t, sigmaj_t, v_lts_t, betas_t, gammas_t, lamb_t])\n",
    "\n",
    "    # Normalize and predict\n",
    "    X_test = torch.from_numpy((R_test - x_mean) / x_std).unsqueeze(1).to(device)\n",
    "    model.eval()\n",
    "    with torch.no_grad():\n",
    "        Y_pred_norm = model(X_test).cpu().numpy()\n",
    "    Y_pred = Y_pred_norm * y_std[None, :] + y_mean[None, :]\n",
    "\n",
    "    # Log R^2 for each parameter\n",
    "    for i, name in enumerate([\"mu\",\"muJ\",\"sigmaJ\",\"vLT\",\"beta\",\"gamma\",\"lambda\"]):\n",
    "        score = r2_score(Y_test[:,i], Y_pred[:,i])\n",
    "        logging.info(f\"Test R^2 for {name}: {score:.4f}\")\n",
    "\n",
    "    logging.info(\"Evaluation complete.\")\n"
   ]
  },
  {
   "cell_type": "markdown",
   "metadata": {},
   "source": [
    "# Transformer based"
   ]
  },
  {
   "cell_type": "code",
   "execution_count": null,
   "metadata": {},
   "outputs": [
    {
     "name": "stdout",
     "output_type": "stream",
     "text": [
      "Using device: cuda\n",
      "Generating 100000 parameter sets (vectorized)...\n",
      "Simulating 100000 series (vectorized across samples, iterative over T)...\n"
     ]
    },
    {
     "name": "stderr",
     "output_type": "stream",
     "text": [
      "                                                                           \r"
     ]
    },
    {
     "name": "stdout",
     "output_type": "stream",
     "text": [
      "Generating 5000 parameter sets (vectorized)...\n",
      "Simulating 5000 series (vectorized across samples, iterative over T)...\n"
     ]
    },
    {
     "name": "stderr",
     "output_type": "stream",
     "text": [
      "                                                                            \r"
     ]
    },
    {
     "name": "stdout",
     "output_type": "stream",
     "text": [
      "Generating 1000 parameter sets (vectorized)...\n",
      "Simulating 1000 series (vectorized across samples, iterative over T)...\n"
     ]
    },
    {
     "name": "stderr",
     "output_type": "stream",
     "text": [
      "                                                                             \r"
     ]
    },
    {
     "name": "stdout",
     "output_type": "stream",
     "text": [
      "Model outputting to runs/svj_transformer_v3_conv_cls_lrwarmup_cap and best_svj_transformer_v3.pth\n",
      "Model initialized. CNN output seq len: 540, Positional encoding max_len: 541\n",
      "Total trainable parameters: 4,847,239\n",
      "\n",
      "--- Starting Training ---\n"
     ]
    },
    {
     "name": "stderr",
     "output_type": "stream",
     "text": [
      "Training Epoch 1 (LR: 2.00e-05): 100%|██████████| 782/782 [05:47<00:00,  2.25it/s, Loss=0.595]\n",
      "                                                           \r"
     ]
    },
    {
     "name": "stdout",
     "output_type": "stream",
     "text": [
      "\n",
      "--- Validation Results ---\n",
      "Validation Loss (norm): 0.566122\n",
      "Validation R² for mu (denorm): 0.0362\n",
      "Validation R² for v_LT (denorm): 0.8587\n",
      "Validation R² for beta (denorm): 0.2175\n",
      "Validation R² for gamma (denorm): 0.2148\n",
      "Validation R² for mu_J (denorm): 0.7512\n",
      "Validation R² for sigma_J (denorm): 0.6281\n",
      "Validation R² for lambda_J (denorm): 0.3225\n",
      "-------------------------\n",
      "\n",
      "Epoch 1/100 - Time: 352.45s - LR: 2.00e-05 - Train Loss (norm): 0.726170 - Val Loss (norm): 0.566122\n"
     ]
    },
    {
     "name": "stderr",
     "output_type": "stream",
     "text": [
      "Training Epoch 2 (LR: 4.00e-05): 100%|██████████| 782/782 [05:58<00:00,  2.18it/s, Loss=0.412]\n",
      "                                                           \r"
     ]
    },
    {
     "name": "stdout",
     "output_type": "stream",
     "text": [
      "\n",
      "--- Validation Results ---\n",
      "Validation Loss (norm): 0.469295\n",
      "Validation R² for mu (denorm): 0.0456\n",
      "Validation R² for v_LT (denorm): 0.9058\n",
      "Validation R² for beta (denorm): 0.3033\n",
      "Validation R² for gamma (denorm): 0.3323\n",
      "Validation R² for mu_J (denorm): 0.8115\n",
      "Validation R² for sigma_J (denorm): 0.8095\n",
      "Validation R² for lambda_J (denorm): 0.5045\n",
      "-------------------------\n",
      "\n",
      "Epoch 2/100 - Time: 363.01s - LR: 4.00e-05 - Train Loss (norm): 0.483592 - Val Loss (norm): 0.469295\n"
     ]
    },
    {
     "name": "stderr",
     "output_type": "stream",
     "text": [
      "Training Epoch 3 (LR: 6.00e-05): 100%|██████████| 782/782 [05:56<00:00,  2.19it/s, Loss=0.364]\n",
      "                                                           \r"
     ]
    },
    {
     "name": "stdout",
     "output_type": "stream",
     "text": [
      "\n",
      "--- Validation Results ---\n",
      "Validation Loss (norm): 0.325416\n",
      "Validation R² for mu (denorm): 0.4838\n",
      "Validation R² for v_LT (denorm): 0.9312\n",
      "Validation R² for beta (denorm): 0.3708\n",
      "Validation R² for gamma (denorm): 0.5769\n",
      "Validation R² for mu_J (denorm): 0.8419\n",
      "Validation R² for sigma_J (denorm): 0.8724\n",
      "Validation R² for lambda_J (denorm): 0.6321\n",
      "-------------------------\n",
      "\n",
      "Epoch 3/100 - Time: 361.74s - LR: 6.00e-05 - Train Loss (norm): 0.386017 - Val Loss (norm): 0.325416\n"
     ]
    },
    {
     "name": "stderr",
     "output_type": "stream",
     "text": [
      "Training Epoch 4 (LR: 8.00e-05):  34%|███▍      | 265/782 [02:00<04:10,  2.06it/s, Loss=0.371]"
     ]
    }
   ],
   "source": [
    "import torch\n",
    "import torch.nn as nn\n",
    "import torch.optim as optim\n",
    "from torch.utils.data import Dataset, DataLoader\n",
    "from torch.utils.tensorboard import SummaryWriter\n",
    "import numpy as np\n",
    "import math\n",
    "import os\n",
    "import time\n",
    "from tqdm import tqdm\n",
    "\n",
    "# Configuration\n",
    "CONFIG = {\n",
    "    \"T\": 24*90,  # Length of return series (2160)\n",
    "    \"N_TRAIN\": 100_000,\n",
    "    \"N_VAL\": 5000,\n",
    "    \"N_TEST\": 1000,\n",
    "    \"PARAM_NAMES\": ['mu', 'v_LT', 'beta', 'gamma', 'mu_J', 'sigma_J', 'lambda_J'],\n",
    "    \"MODEL_PARAMS\": {\n",
    "        # CNN Stem parameters\n",
    "        \"cnn_out_channels\": [64, 128], # Channels for CNN layers\n",
    "        \"cnn_kernel_sizes\": [7, 5],    # Kernel sizes for CNN layers\n",
    "        \"cnn_strides\": [1, 1],         # Strides for CNN layers (conv)\n",
    "        \"cnn_padding\": [3, 2],         # Padding for CNN layers (conv)\n",
    "        \"cnn_pool_kernel_sizes\": [2, 2], # MaxPool kernel size after each CNN layer\n",
    "        \"cnn_pool_strides\": [2, 2],     # MaxPool stride after each CNN layer\n",
    "\n",
    "        # Transformer parameters\n",
    "        # d_model should match the last cnn_out_channels if cnn_final_proj is False\n",
    "        # Or, cnn_out_channels[-1] will be projected to d_model\n",
    "        \"d_model\": 256,                 # Embedding dimension for Transformer\n",
    "        \"nhead\": 8,                     # Number of attention heads\n",
    "        \"num_encoder_layers\": 6,        # Number of Transformer encoder layers\n",
    "        \"dim_feedforward\": 1024,        # Dimension of feedforward network (e.g., 4 * d_model)\n",
    "        \"dropout\": 0.15,                # Dropout rate in Transformer\n",
    "    },\n",
    "    \"TRAINING_PARAMS\": {\n",
    "        \"batch_size\": 128, # Adjusted for potentially larger model\n",
    "        \"learning_rate\": 1e-4, # Base LR\n",
    "        \"epochs\": 100,\n",
    "        \"early_stopping_patience\": 15, # Increased patience\n",
    "        \"warmup_epochs\": 5, # Number of epochs for LR warmup\n",
    "    },\n",
    "    \"SEED\": 42,\n",
    "    \"TENSORBOARD_LOG_DIR\": \"runs/svj_transformer_v3_conv_cls_lrwarmup_cap\",\n",
    "    \"MODEL_SAVE_PATH\": \"best_svj_transformer_v3.pth\",\n",
    "}\n",
    "\n",
    "# Set seed for reproducibility\n",
    "np.random.seed(CONFIG[\"SEED\"])\n",
    "torch.manual_seed(CONFIG[\"SEED\"])\n",
    "if torch.cuda.is_available():\n",
    "    torch.cuda.manual_seed_all(CONFIG[\"SEED\"])\n",
    "\n",
    "# --- 1. SVJ Model Simulation (Vectorized -UNCHANGED from previous version) ---\n",
    "def generate_svj_parameters_vectorized(num_samples, param_names_list):\n",
    "    params_dict = {}\n",
    "    params_dict['mu'] = np.random.uniform(-0.1, 0.1, size=num_samples) / 250.0\n",
    "    params_dict['v_LT'] = np.random.uniform(0.005, 0.015, size=num_samples)**2\n",
    "    params_dict['beta'] = np.random.uniform(0.79, 0.99, size=num_samples)\n",
    "    params_dict['gamma'] = np.random.uniform(0.05, 0.50, size=num_samples)\n",
    "    params_dict['mu_J'] = np.random.uniform(-0.05, 0.05, size=num_samples)\n",
    "    sigma_J_raw = np.random.uniform(0.01, 0.10, size=num_samples)\n",
    "    params_dict['sigma_J'] = np.maximum(sigma_J_raw, 1e-6)\n",
    "    params_dict['lambda_J'] = np.random.uniform(0.005, 0.05, size=num_samples)\n",
    "    Y = np.stack([params_dict[name] for name in param_names_list], axis=1)\n",
    "    return Y\n",
    "\n",
    "def simulate_svj_series_vectorized(params_array, T, param_names_list):\n",
    "    num_samples = params_array.shape[0]\n",
    "    params_dict = {name: params_array[:, i] for i, name in enumerate(param_names_list)}\n",
    "    mu, v_LT, beta, gamma, mu_J, sigma_J, lambda_J = (\n",
    "        params_dict['mu'], params_dict['v_LT'], params_dict['beta'], params_dict['gamma'],\n",
    "        params_dict['mu_J'], params_dict['sigma_J'], params_dict['lambda_J']\n",
    "    )\n",
    "    v_LT_safe = np.maximum(v_LT, 1e-8)\n",
    "    alpha = np.log(v_LT_safe) * (1 - beta)\n",
    "    returns = np.zeros((num_samples, T))\n",
    "    log_variances = np.zeros((num_samples, T))\n",
    "    log_variances[:, 0] = np.log(v_LT_safe)\n",
    "    for t in tqdm(range(T), desc=\"Simulating time steps\", leave=False):\n",
    "        if t > 0:\n",
    "            eps_h = np.random.normal(0, 1, size=num_samples)\n",
    "            log_variances[:, t] = alpha + beta * log_variances[:, t-1] + gamma * eps_h\n",
    "        else:\n",
    "            log_variances[:, t] = log_variances[:, 0]\n",
    "        sigma_t_sq = np.exp(log_variances[:, t])\n",
    "        sigma_t_sq_safe = np.maximum(sigma_t_sq, 1e-10)\n",
    "        sigma_t = np.sqrt(sigma_t_sq_safe)\n",
    "        Z_t = np.random.binomial(1, lambda_J)\n",
    "        J_t = np.zeros(num_samples)\n",
    "        jump_indices = Z_t > 0\n",
    "        num_active_jumps = np.sum(jump_indices)\n",
    "        if num_active_jumps > 0:\n",
    "            J_t[jump_indices] = np.random.normal(mu_J[jump_indices], sigma_J[jump_indices], size=num_active_jumps)\n",
    "        eps_r = np.random.normal(0, 1, size=num_samples)\n",
    "        returns[:, t] = mu + sigma_t * eps_r + J_t\n",
    "    return returns\n",
    "\n",
    "def generate_dataset_vectorized(num_samples, T, param_names_list):\n",
    "    print(f\"Generating {num_samples} parameter sets (vectorized)...\")\n",
    "    Y_params = generate_svj_parameters_vectorized(num_samples, param_names_list)\n",
    "    print(f\"Simulating {num_samples} series (vectorized across samples, iterative over T)...\")\n",
    "    X_returns = simulate_svj_series_vectorized(Y_params, T, param_names_list)\n",
    "    return torch.tensor(X_returns, dtype=torch.float32), torch.tensor(Y_params, dtype=torch.float32)\n",
    "\n",
    "# --- 2. Dataset and Normalization (UNCHANGED) ---\n",
    "class SVJDataset(Dataset):\n",
    "    def __init__(self, X, Y):\n",
    "        self.X = X\n",
    "        self.Y = Y\n",
    "    def __len__(self): return len(self.X)\n",
    "    def __getitem__(self, idx): return self.X[idx], self.Y[idx]\n",
    "\n",
    "def normalize_params(params_tensor, means=None, stds=None):\n",
    "    if means is None or stds is None:\n",
    "        means = params_tensor.mean(dim=0, keepdim=True)\n",
    "        stds = params_tensor.std(dim=0, keepdim=True)\n",
    "        stds[stds == 0] = 1\n",
    "    return (params_tensor - means) / stds, means, stds\n",
    "\n",
    "def denormalize_params(normalized_params_tensor, means, stds):\n",
    "    return normalized_params_tensor * stds + means\n",
    "\n",
    "def normalize_returns(returns_tensor, mean=None, std=None):\n",
    "    if mean is None or std is None:\n",
    "        mean = returns_tensor.mean()\n",
    "        std = returns_tensor.std()\n",
    "        if std == 0: std = 1\n",
    "    return (returns_tensor - mean) / std, mean, std\n",
    "\n",
    "# --- 3. Transformer Model (MODIFIED) ---\n",
    "class PositionalEncoding(nn.Module):\n",
    "    def __init__(self, d_model, dropout=0.1, max_len=5000): # max_len should be dynamic or large enough\n",
    "        super(PositionalEncoding, self).__init__()\n",
    "        self.dropout = nn.Dropout(p=dropout)\n",
    "        pe = torch.zeros(max_len, d_model)\n",
    "        position = torch.arange(0, max_len, dtype=torch.float).unsqueeze(1)\n",
    "        div_term = torch.exp(torch.arange(0, d_model, 2).float() * (-math.log(10000.0) / d_model))\n",
    "        pe[:, 0::2] = torch.sin(position * div_term)\n",
    "        pe[:, 1::2] = torch.cos(position * div_term)\n",
    "        pe = pe.unsqueeze(0)\n",
    "        self.register_buffer('pe', pe)\n",
    "\n",
    "    def forward(self, x): # x shape: (batch_size, seq_len, d_model)\n",
    "        x = x + self.pe[:, :x.size(1), :]\n",
    "        return self.dropout(x)\n",
    "\n",
    "class SVJTransformer(nn.Module):\n",
    "    def __init__(self, num_params_to_predict, T_input, model_config):\n",
    "        super(SVJTransformer, self).__init__()\n",
    "        \n",
    "        self.d_model = model_config[\"d_model\"]\n",
    "        \n",
    "        # Convolutional Stem\n",
    "        cnn_layers = []\n",
    "        current_channels = 1 # Input is univariate time series\n",
    "        current_T = T_input\n",
    "        \n",
    "        cnn_out_channels_list = model_config[\"cnn_out_channels\"]\n",
    "        cnn_kernel_sizes_list = model_config[\"cnn_kernel_sizes\"]\n",
    "        cnn_strides_list = model_config[\"cnn_strides\"]\n",
    "        cnn_padding_list = model_config[\"cnn_padding\"]\n",
    "        cnn_pool_kernel_sizes_list = model_config[\"cnn_pool_kernel_sizes\"]\n",
    "        cnn_pool_strides_list = model_config[\"cnn_pool_strides\"]\n",
    "\n",
    "        for i in range(len(cnn_out_channels_list)):\n",
    "            cnn_layers.append(nn.Conv1d(\n",
    "                in_channels=current_channels,\n",
    "                out_channels=cnn_out_channels_list[i],\n",
    "                kernel_size=cnn_kernel_sizes_list[i],\n",
    "                stride=cnn_strides_list[i],\n",
    "                padding=cnn_padding_list[i]\n",
    "            ))\n",
    "            cnn_layers.append(nn.ReLU())\n",
    "            # Optional: BatchNorm1d\n",
    "            # cnn_layers.append(nn.BatchNorm1d(cnn_out_channels_list[i]))\n",
    "            cnn_layers.append(nn.MaxPool1d(\n",
    "                kernel_size=cnn_pool_kernel_sizes_list[i],\n",
    "                stride=cnn_pool_strides_list[i]\n",
    "            ))\n",
    "            current_channels = cnn_out_channels_list[i]\n",
    "            # Calculate T after conv\n",
    "            current_T = math.floor((current_T + 2 * cnn_padding_list[i] - (cnn_kernel_sizes_list[i]-1) - 1) / cnn_strides_list[i] + 1)\n",
    "            # Calculate T after pool\n",
    "            current_T = math.floor((current_T - (cnn_pool_kernel_sizes_list[i]-1) -1) / cnn_pool_strides_list[i] + 1)\n",
    "\n",
    "        self.cnn_stem = nn.Sequential(*cnn_layers)\n",
    "        self.cnn_output_seq_len = current_T\n",
    "        \n",
    "        # Projection if CNN output channels don't match d_model for Transformer\n",
    "        if current_channels != self.d_model:\n",
    "            self.cnn_to_transformer_proj = nn.Linear(current_channels, self.d_model)\n",
    "        else:\n",
    "            self.cnn_to_transformer_proj = nn.Identity()\n",
    "\n",
    "        # CLS Token\n",
    "        self.cls_token = nn.Parameter(torch.randn(1, 1, self.d_model)) # Learnable parameter\n",
    "\n",
    "        # Positional Encoding (max_len needs to be cnn_output_seq_len + 1 for CLS)\n",
    "        self.pos_encoder = PositionalEncoding(self.d_model, model_config[\"dropout\"], max_len=self.cnn_output_seq_len + 1)\n",
    "\n",
    "        # Transformer Encoder\n",
    "        encoder_layer = nn.TransformerEncoderLayer(\n",
    "            self.d_model, model_config[\"nhead\"], model_config[\"dim_feedforward\"],\n",
    "            model_config[\"dropout\"], batch_first=True\n",
    "        )\n",
    "        self.transformer_encoder = nn.TransformerEncoder(encoder_layer, model_config[\"num_encoder_layers\"])\n",
    "        \n",
    "        # Regression head\n",
    "        self.fc_head = nn.Sequential(\n",
    "            nn.Linear(self.d_model, self.d_model // 2),\n",
    "            nn.ReLU(),\n",
    "            nn.Dropout(model_config[\"dropout\"]), # Add dropout in head too\n",
    "            nn.Linear(self.d_model // 2, num_params_to_predict)\n",
    "        )\n",
    "\n",
    "    def forward(self, src):\n",
    "        # src shape: (batch_size, seq_len)\n",
    "        src = src.unsqueeze(1) # (batch_size, 1, seq_len) for Conv1d\n",
    "        \n",
    "        # Pass through CNN stem\n",
    "        x = self.cnn_stem(src) # (batch_size, cnn_out_channels[-1], cnn_output_seq_len)\n",
    "        x = x.permute(0, 2, 1) # (batch_size, cnn_output_seq_len, cnn_out_channels[-1])\n",
    "        \n",
    "        # Project to d_model if necessary\n",
    "        x = self.cnn_to_transformer_proj(x) # (batch_size, cnn_output_seq_len, d_model)\n",
    "\n",
    "        # Prepend CLS token\n",
    "        batch_size = x.size(0)\n",
    "        cls_tokens = self.cls_token.expand(batch_size, -1, -1) # (batch_size, 1, d_model)\n",
    "        x = torch.cat((cls_tokens, x), dim=1) # (batch_size, cnn_output_seq_len + 1, d_model)\n",
    "        \n",
    "        # Add positional encoding\n",
    "        x = self.pos_encoder(x)\n",
    "        \n",
    "        # Pass through Transformer encoder\n",
    "        output = self.transformer_encoder(x) # (batch_size, cnn_output_seq_len + 1, d_model)\n",
    "        \n",
    "        # Use the output of the CLS token for prediction\n",
    "        cls_output = output[:, 0, :] # (batch_size, d_model)\n",
    "        \n",
    "        predictions = self.fc_head(cls_output) # (batch_size, num_params_to_predict)\n",
    "        return predictions\n",
    "\n",
    "# --- 4. Utility Functions (UNCHANGED) ---\n",
    "def r_squared(y_true, y_pred, per_param=True):\n",
    "    if not isinstance(y_true, torch.Tensor): y_true = torch.tensor(y_true)\n",
    "    if not isinstance(y_pred, torch.Tensor): y_pred = torch.tensor(y_pred)\n",
    "    if per_param:\n",
    "        r2_scores = []\n",
    "        for i in range(y_true.shape[1]):\n",
    "            ss_res = torch.sum((y_true[:, i] - y_pred[:, i])**2)\n",
    "            ss_tot = torch.sum((y_true[:, i] - torch.mean(y_true[:, i]))**2)\n",
    "            if ss_tot == 0: r2 = 1.0 if ss_res < 1e-9 else 0.0\n",
    "            else: r2 = 1 - ss_res / ss_tot\n",
    "            r2_scores.append(r2.item())\n",
    "        return r2_scores\n",
    "    else:\n",
    "        ss_res = torch.sum((y_true - y_pred)**2)\n",
    "        ss_tot = torch.sum((y_true - torch.mean(y_true))**2)\n",
    "        if ss_tot == 0: return 1.0 if ss_res < 1e-9 else 0.0\n",
    "        return (1 - ss_res / ss_tot).item()\n",
    "\n",
    "class EarlyStopping:\n",
    "    def __init__(self, patience=5, min_delta=0, checkpoint_path=\"best_model.pth\"):\n",
    "        self.patience = patience; self.min_delta = min_delta; self.checkpoint_path = checkpoint_path\n",
    "        self.counter = 0; self.best_loss = float('inf'); self.early_stop = False\n",
    "    def __call__(self, val_loss, model):\n",
    "        if self.best_loss - val_loss > self.min_delta:\n",
    "            self.best_loss = val_loss; self.counter = 0\n",
    "            torch.save(model.state_dict(), self.checkpoint_path)\n",
    "        else:\n",
    "            self.counter += 1\n",
    "            if self.counter >= self.patience: print(\"Early stopping triggered.\"); self.early_stop = True\n",
    "        return self.early_stop\n",
    "\n",
    "# --- 5. Training and Evaluation Loop (MODIFIED for LR Warmup) ---\n",
    "def train_model(model, train_loader, optimizer, criterion, device, param_means, param_stds, epoch, train_config):\n",
    "    model.train()\n",
    "    total_loss = 0\n",
    "    \n",
    "    # LR Warmup\n",
    "    base_lr = train_config[\"learning_rate\"]\n",
    "    warmup_epochs = train_config[\"warmup_epochs\"]\n",
    "    if epoch <= warmup_epochs:\n",
    "        # Linear warmup: lr = base_lr * (current_epoch / warmup_epochs)\n",
    "        # Ensure epoch is 1-indexed for this formula\n",
    "        lr = base_lr * (epoch / warmup_epochs)\n",
    "        for param_group in optimizer.param_groups:\n",
    "            param_group['lr'] = lr\n",
    "    elif epoch == warmup_epochs + 1 : # After warmup, set to base_lr (if no other scheduler)\n",
    "         for param_group in optimizer.param_groups:\n",
    "            param_group['lr'] = base_lr\n",
    "    current_lr = optimizer.param_groups[0]['lr']\n",
    "\n",
    "\n",
    "    pbar = tqdm(train_loader, desc=f\"Training Epoch {epoch} (LR: {current_lr:.2e})\")\n",
    "    for batch_idx, (data, target_params_orig) in enumerate(pbar):\n",
    "        data = data.to(device)\n",
    "        target_params_orig = target_params_orig.to(device)\n",
    "        target_params_norm = (target_params_orig - param_means.to(device)) / param_stds.to(device)\n",
    "        optimizer.zero_grad()\n",
    "        predictions_norm = model(data)\n",
    "        loss = criterion(predictions_norm, target_params_norm)\n",
    "        loss.backward()\n",
    "        optimizer.step()\n",
    "        total_loss += loss.item()\n",
    "        if batch_idx % 50 == 0:\n",
    "             pbar.set_postfix({\"Loss\": loss.item()})\n",
    "    avg_loss = total_loss / len(train_loader)\n",
    "    return avg_loss, current_lr\n",
    "\n",
    "\n",
    "def evaluate_model(model, data_loader, criterion, device, param_names_list, param_means, param_stds, is_test_set=False):\n",
    "    model.eval()\n",
    "    total_loss = 0\n",
    "    all_predictions_denorm, all_targets_denorm = [], []\n",
    "    desc = \"Testing\" if is_test_set else \"Evaluating\"\n",
    "    with torch.no_grad():\n",
    "        for data, target_params_orig in tqdm(data_loader, desc=desc, leave=False):\n",
    "            data, target_params_orig = data.to(device), target_params_orig.to(device)\n",
    "            target_params_norm = (target_params_orig - param_means.to(device)) / param_stds.to(device)\n",
    "            predictions_norm = model(data)\n",
    "            loss = criterion(predictions_norm, target_params_norm)\n",
    "            total_loss += loss.item()\n",
    "            predictions_denorm = denormalize_params(predictions_norm, param_means.to(device), param_stds.to(device))\n",
    "            all_predictions_denorm.append(predictions_denorm.cpu())\n",
    "            all_targets_denorm.append(target_params_orig.cpu())\n",
    "    avg_loss = total_loss / len(data_loader)\n",
    "    all_predictions_denorm = torch.cat(all_predictions_denorm, dim=0)\n",
    "    all_targets_denorm = torch.cat(all_targets_denorm, dim=0)\n",
    "    r2_scores_per_param = r_squared(all_targets_denorm, all_predictions_denorm, per_param=True)\n",
    "    print_prefix = \"Test\" if is_test_set else \"Validation\"\n",
    "    print(f\"\\n--- {print_prefix} Results ---\")\n",
    "    print(f\"{print_prefix} Loss (norm): {avg_loss:.6f}\")\n",
    "    for i, name in enumerate(param_names_list): print(f\"{print_prefix} R² for {name} (denorm): {r2_scores_per_param[i]:.4f}\")\n",
    "    print(\"-------------------------\\n\")\n",
    "    return avg_loss, r2_scores_per_param\n",
    "\n",
    "# --- 6. Parameter Sweep Function (UNCHANGED) ---\n",
    "def perform_parameter_sweep(model, fixed_params_base, param_to_sweep_idx, sweep_values,\n",
    "                            T, n_series_per_value, device,\n",
    "                            return_norm_mean, return_norm_std, \n",
    "                            param_norm_means, param_norm_stds, \n",
    "                            param_names_list):\n",
    "    model.eval()\n",
    "    results_pred = {name: [] for name in param_names_list}\n",
    "    true_swept_values_recorded = []\n",
    "    print(f\"\\n--- Performing Parameter Sweep for {param_names_list[param_to_sweep_idx]} ---\")\n",
    "    for sweep_val in tqdm(sweep_values, desc=f\"Sweeping {param_names_list[param_to_sweep_idx]}\", leave=False):\n",
    "        current_params_true_denorm = np.copy(fixed_params_base)\n",
    "        current_params_true_denorm[param_to_sweep_idx] = sweep_val\n",
    "        true_swept_values_recorded.append(sweep_val)\n",
    "        batch_returns_list_for_sweep = []\n",
    "        for _ in range(n_series_per_value):\n",
    "            series_single = simulate_svj_series_vectorized(current_params_true_denorm.reshape(1, -1), T, param_names_list)\n",
    "            batch_returns_list_for_sweep.append(torch.tensor(series_single, dtype=torch.float32))\n",
    "        batch_returns_for_sweep = torch.cat(batch_returns_list_for_sweep, dim=0)\n",
    "        batch_returns_norm, _, _ = normalize_returns(batch_returns_for_sweep, return_norm_mean, return_norm_std)\n",
    "        batch_returns_norm = batch_returns_norm.to(device)\n",
    "        with torch.no_grad():\n",
    "            predictions_norm = model(batch_returns_norm)\n",
    "            predictions_denorm = denormalize_params(predictions_norm, param_norm_means.to(device), param_norm_stds.to(device))\n",
    "            avg_predictions_denorm = predictions_denorm.mean(dim=0).cpu().numpy()\n",
    "        for i, name in enumerate(param_names_list): results_pred[name].append(avg_predictions_denorm[i])\n",
    "    import matplotlib.pyplot as plt\n",
    "    plt.figure(figsize=(12, 7)); param_name_swept = param_names_list[param_to_sweep_idx]\n",
    "    plt.plot(true_swept_values_recorded, results_pred[param_name_swept], 'o-', label=f'Avg. Predicted {param_name_swept}')\n",
    "    plt.plot(true_swept_values_recorded, true_swept_values_recorded, 'k--', label='True Value (Ideal)')\n",
    "    plt.xlabel(f'True {param_name_swept}'); plt.ylabel(f'Predicted {param_name_swept}')\n",
    "    plt.title(f'Parameter Sweep Analysis: {param_name_swept}'); plt.legend(); plt.grid(True)\n",
    "    sweep_plot_filename = f\"sweep_{param_name_swept}.png\"; plt.savefig(sweep_plot_filename)\n",
    "    print(f\"Parameter sweep plot saved to {sweep_plot_filename}\"); plt.close()\n",
    "    return results_pred, true_swept_values_recorded\n",
    "\n",
    "# --- Main Execution ---\n",
    "if __name__ == \"__main__\":\n",
    "    device = torch.device(\"cuda\" if torch.cuda.is_available() else \"cpu\")\n",
    "    print(f\"Using device: {device}\")\n",
    "\n",
    "    X_train_raw, Y_train_raw = generate_dataset_vectorized(CONFIG[\"N_TRAIN\"], CONFIG[\"T\"], CONFIG[\"PARAM_NAMES\"])\n",
    "    X_val_raw, Y_val_raw = generate_dataset_vectorized(CONFIG[\"N_VAL\"], CONFIG[\"T\"], CONFIG[\"PARAM_NAMES\"])\n",
    "    X_test_raw, Y_test_raw = generate_dataset_vectorized(CONFIG[\"N_TEST\"], CONFIG[\"T\"], CONFIG[\"PARAM_NAMES\"])\n",
    "\n",
    "    X_train_norm, return_mean_norm, return_std_norm = normalize_returns(X_train_raw)\n",
    "    X_val_norm, _, _ = normalize_returns(X_val_raw, return_mean_norm, return_std_norm)\n",
    "    X_test_norm, _, _ = normalize_returns(X_test_raw, return_mean_norm, return_std_norm)\n",
    "    _, param_means_norm, param_stds_norm = normalize_params(Y_train_raw)\n",
    "\n",
    "    train_dataset = SVJDataset(X_train_norm, Y_train_raw)\n",
    "    val_dataset = SVJDataset(X_val_norm, Y_val_raw)\n",
    "    test_dataset = SVJDataset(X_test_norm, Y_test_raw)\n",
    "    train_loader = DataLoader(train_dataset, batch_size=CONFIG[\"TRAINING_PARAMS\"][\"batch_size\"], shuffle=True, num_workers=4, pin_memory=True)\n",
    "    val_loader = DataLoader(val_dataset, batch_size=CONFIG[\"TRAINING_PARAMS\"][\"batch_size\"], shuffle=False, num_workers=4, pin_memory=True)\n",
    "    test_loader = DataLoader(test_dataset, batch_size=CONFIG[\"TRAINING_PARAMS\"][\"batch_size\"], shuffle=False, num_workers=4, pin_memory=True)\n",
    "    \n",
    "    model = SVJTransformer(\n",
    "        num_params_to_predict=len(CONFIG[\"PARAM_NAMES\"]),\n",
    "        T_input=CONFIG[\"T\"],\n",
    "        model_config=CONFIG[\"MODEL_PARAMS\"]\n",
    "    ).to(device)\n",
    "\n",
    "    optimizer = optim.AdamW(model.parameters(), lr=CONFIG[\"TRAINING_PARAMS\"][\"learning_rate\"], weight_decay=1e-4) # AdamW is often better\n",
    "    criterion = nn.MSELoss()\n",
    "    early_stopper = EarlyStopping(patience=CONFIG[\"TRAINING_PARAMS\"][\"early_stopping_patience\"], checkpoint_path=CONFIG[\"MODEL_SAVE_PATH\"])\n",
    "    writer = SummaryWriter(CONFIG[\"TENSORBOARD_LOG_DIR\"])\n",
    "    print(f\"Model outputting to {CONFIG['TENSORBOARD_LOG_DIR']} and {CONFIG['MODEL_SAVE_PATH']}\")\n",
    "    print(f\"Model initialized. CNN output seq len: {model.cnn_output_seq_len}, Positional encoding max_len: {model.pos_encoder.pe.size(1)}\")\n",
    "    print(f\"Total trainable parameters: {sum(p.numel() for p in model.parameters() if p.requires_grad):,}\")\n",
    "\n",
    "    print(\"\\n--- Starting Training ---\")\n",
    "    for epoch in range(1, CONFIG[\"TRAINING_PARAMS\"][\"epochs\"] + 1):\n",
    "        start_time = time.time()\n",
    "        train_loss, current_lr = train_model(model, train_loader, optimizer, criterion, device, param_means_norm, param_stds_norm, epoch, CONFIG[\"TRAINING_PARAMS\"])\n",
    "        val_loss, val_r2_scores = evaluate_model(model, val_loader, criterion, device, CONFIG[\"PARAM_NAMES\"], param_means_norm, param_stds_norm)\n",
    "        end_time = time.time()\n",
    "        print(f\"Epoch {epoch}/{CONFIG['TRAINING_PARAMS']['epochs']} - Time: {end_time-start_time:.2f}s - LR: {current_lr:.2e} - Train Loss (norm): {train_loss:.6f} - Val Loss (norm): {val_loss:.6f}\")\n",
    "        writer.add_scalar('Loss/Train', train_loss, epoch)\n",
    "        writer.add_scalar('Loss/Validation', val_loss, epoch)\n",
    "        writer.add_scalar('Learning_Rate', current_lr, epoch)\n",
    "        for i, name in enumerate(CONFIG[\"PARAM_NAMES\"]): writer.add_scalar(f'R2_Validation/{name}', val_r2_scores[i], epoch)\n",
    "        if early_stopper(val_loss, model): break\n",
    "    \n",
    "    writer.close()\n",
    "    print(\"--- Training Finished ---\")\n",
    "\n",
    "    print(\"\\n--- Evaluating on Test Set with Best Model ---\")\n",
    "    if os.path.exists(CONFIG[\"MODEL_SAVE_PATH\"]):\n",
    "        model.load_state_dict(torch.load(CONFIG[\"MODEL_SAVE_PATH\"]))\n",
    "        test_loss, test_r2_scores = evaluate_model(model, test_loader, criterion, device, CONFIG[\"PARAM_NAMES\"], param_means_norm, param_stds_norm, is_test_set=True)\n",
    "    else:\n",
    "        print(f\"Warning: Model checkpoint {CONFIG['MODEL_SAVE_PATH']} not found. Skipping test set evaluation with best model.\")\n",
    "\n",
    "\n",
    "    print(\"\\n--- Starting Parameter Sweep Example ---\")\n",
    "    if os.path.exists(CONFIG[\"MODEL_SAVE_PATH\"]):\n",
    "        fixed_params_base_for_sweep = Y_train_raw.mean(dim=0).numpy()\n",
    "        param_to_sweep = 'beta'; param_to_sweep_idx = CONFIG[\"PARAM_NAMES\"].index(param_to_sweep)\n",
    "        beta_sim_range = (0.79, 0.99); beta_sweep_values = np.linspace(beta_sim_range[0], beta_sim_range[1], 10)\n",
    "        perform_parameter_sweep(model, fixed_params_base_for_sweep, param_to_sweep_idx, beta_sweep_values,\n",
    "                                CONFIG[\"T\"], 20, device, return_mean_norm, return_std_norm,\n",
    "                                param_means_norm, param_stds_norm, CONFIG[\"PARAM_NAMES\"])\n",
    "    else:\n",
    "        print(f\"Warning: Model checkpoint {CONFIG['MODEL_SAVE_PATH']} not found. Skipping parameter sweep.\")\n",
    "    print(\"--- Script Finished ---\")\n"
   ]
  }
 ],
 "metadata": {
  "kernelspec": {
   "display_name": ".venv",
   "language": "python",
   "name": "python3"
  },
  "language_info": {
   "codemirror_mode": {
    "name": "ipython",
    "version": 3
   },
   "file_extension": ".py",
   "mimetype": "text/x-python",
   "name": "python",
   "nbconvert_exporter": "python",
   "pygments_lexer": "ipython3",
   "version": "3.8.20"
  }
 },
 "nbformat": 4,
 "nbformat_minor": 2
}
